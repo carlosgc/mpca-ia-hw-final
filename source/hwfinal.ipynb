{
  "nbformat": 4,
  "nbformat_minor": 0,
  "metadata": {
    "orig_nbformat": 2,
    "file_extension": ".py",
    "mimetype": "text/x-python",
    "name": "python",
    "npconvert_exporter": "python",
    "pygments_lexer": "ipython3",
    "version": 3,
    "colab": {
      "name": "pinojoke-piol-carlos.ipynb",
      "version": "0.3.2",
      "provenance": [],
      "toc_visible": true
    },
    "kernelspec": {
      "name": "python3",
      "display_name": "Python 3"
    },
    "accelerator": "GPU"
  },
  "cells": [
    {
      "cell_type": "markdown",
      "metadata": {
        "id": "202lODfRwCko",
        "colab_type": "text"
      },
      "source": [
        "#Gesture Identification from Inertial Sensors"
      ]
    },
    {
      "cell_type": "markdown",
      "metadata": {
        "id": "MM88tJ52wSZz",
        "colab_type": "text"
      },
      "source": [
        "##Download of segmented data"
      ]
    },
    {
      "cell_type": "code",
      "metadata": {
        "id": "ayLkjs3EwIDT",
        "colab_type": "code",
        "colab": {}
      },
      "source": [
        "import urllib.request\n",
        "import os.path\n",
        "import numpy as np\n",
        "\n",
        "if not os.path.exists('X_janelas.npy'):\n",
        "  urllib.request.urlretrieve('https://github.com/xpiolx/stanvcic_data/raw/master/X_janelas.npy?raw=true', \n",
        "                             'X_janelas.npy')\n",
        "if not os.path.exists('Y_janelas.npy'):\n",
        "  urllib.request.urlretrieve('https://github.com/xpiolx/stanvcic_data/blob/master/Y_janelas.npy?raw=true', \n",
        "                             'Y_janelas.npy')  \n",
        "X = np.load('X_janelas.npy', allow_pickle=True)\n",
        "y = np.load('Y_janelas.npy', allow_pickle=True)\n",
        "train_len = int(y.shape[0]*8/10)\n",
        "X_train, y_train, X_test, y_test = X[:train_len], y[:train_len], X[train_len:], y[train_len:]"
      ],
      "execution_count": 0,
      "outputs": []
    },
    {
      "cell_type": "markdown",
      "metadata": {
        "id": "55oNbuZZwXlX",
        "colab_type": "text"
      },
      "source": [
        "##Feature Extraction Models"
      ]
    },
    {
      "cell_type": "code",
      "metadata": {
        "id": "9UQuPhiYwIDY",
        "colab_type": "code",
        "colab": {}
      },
      "source": [
        "from sklearn.base import TransformerMixin\n",
        "import numpy as np\n",
        "import scipy.stats as stats\n",
        "\n",
        "# roor mean square\n",
        "def rms(x):\n",
        "  x = np.array(x)\n",
        "  return np.sqrt(np.mean(np.square(x)))\n",
        "# square root amplitude\n",
        "def sra(x):\n",
        "  x = np.array(x)\n",
        "  return np.mean(np.sqrt(np.absolute(x)))**2\n",
        "# peak to peak value\n",
        "def ppv(x):\n",
        "  x = np.array(x)\n",
        "  return np.max(x)-np.min(x)\n",
        "# crest factor\n",
        "def cf(x):\n",
        "  x = np.array(x)\n",
        "  return np.max(np.absolute(x))/rms(x)\n",
        "# impact factor\n",
        "def ifa(x):\n",
        "  x = np.array(x)\n",
        "  return np.max(np.absolute(x))/np.mean(np.absolute(x))\n",
        "# margin factor\n",
        "def mf(x):\n",
        "  x = np.array(x)\n",
        "  return np.max(np.absolute(x))/sra(x)\n",
        "# shape factor\n",
        "def sf(x):\n",
        "  x = np.array(x)\n",
        "  return rms(x)/np.mean(np.absolute(x))\n",
        "# kurtosis factor\n",
        "def kf(x):\n",
        "  x = np.array(x)\n",
        "  return stats.kurtosis(x)/(np.mean(x**2)**2)\n",
        "\n",
        "class StatisticalTime(TransformerMixin):\n",
        "  def __init__(self):\n",
        "    pass\n",
        "  def fit(self, X, y=None):\n",
        "    return self\n",
        "  def transform(self, X, y=None):\n",
        "    features = None\n",
        "    for signal in range(X_train.shape[2]):\n",
        "      feats = np.array([[rms(x), sra(x), stats.kurtosis(x), stats.skew(x), ppv(x), cf(x), ifa(x), mf(x), sf(x), kf(x)] for x in X[:,:,signal]])\n",
        "      if features is None:\n",
        "        features = feats\n",
        "      else:\n",
        "        features = np.concatenate((features,feats),axis=1)\n",
        "    return features\n",
        "  \n",
        "class StatisticalFrequency(TransformerMixin):\n",
        "  def __init__(self):\n",
        "    pass\n",
        "  def fit(self, X, y=None):\n",
        "    return self\n",
        "  def transform(self, X, y=None):\n",
        "    features = None\n",
        "    for signal in range(X_train.shape[2]):\n",
        "      featarray = []\n",
        "      for x in X[:,:,signal]:\n",
        "        fx = np.absolute(np.fft.fft(x))\n",
        "        fc = np.mean(fx)\n",
        "        featarray.append([fc, rms(fx), rms(fx-fc)])\n",
        "      feats = np.array(featarray)\n",
        "      if features is None:\n",
        "        features = feats\n",
        "      else:\n",
        "        features = np.concatenate((features,feats),axis=1)\n",
        "    return features\n",
        "\n",
        "class Statistical(TransformerMixin):\n",
        "  def __init__(self):\n",
        "    pass\n",
        "  def fit(self, X, y=None):\n",
        "    return self\n",
        "  def transform(self, X, y=None):\n",
        "    st = StatisticalTime()\n",
        "    stfeats = st.transform(X)\n",
        "    sf = StatisticalFrequency()\n",
        "    sffeats = sf.transform(X)\n",
        "    return np.concatenate((stfeats,sffeats),axis=1)\n",
        "   \n",
        "import pywt\n",
        "class WaveletPackage(TransformerMixin):\n",
        "  def __init__(self):\n",
        "    pass\n",
        "  def fit(self, X, y=None):\n",
        "    return self\n",
        "  def transform(self, X, y=None):\n",
        "    def Energy(coeffs, k):\n",
        "      return np.sqrt(np.sum(np.array(coeffs[-k]) ** 2)) / len(coeffs[-k])\n",
        "    def getEnergy(wp):\n",
        "      coefs = np.asarray([n.data for n in wp.get_leaf_nodes(True)])\n",
        "      return np.asarray([Energy(coefs,i) for i in range(2**wp.maxlevel)])\n",
        "    features = None\n",
        "    for signal in range(X_train.shape[2]):\n",
        "      feats = np.array([getEnergy(pywt.WaveletPacket(data=x, wavelet='db4', mode='symmetric', maxlevel=4)) for x in X[:,:,signal]])\n",
        "      if features is None:\n",
        "        features = feats\n",
        "      else:\n",
        "        features = np.concatenate((features,feats),axis=1)\n",
        "    return features\n",
        "\n",
        "class Heterogeneous(TransformerMixin):\n",
        "  def __init__(self):\n",
        "    pass\n",
        "  def fit(self, X, y=None):\n",
        "    return self\n",
        "  def transform(self, X, y=None):\n",
        "    st = StatisticalTime()\n",
        "    stfeats = st.transform(X)\n",
        "    sf = StatisticalFrequency()\n",
        "    sffeats = sf.transform(X)\n",
        "    wp = WaveletPackage()\n",
        "    wpfeats = wp.transform(X)\n",
        "    return np.concatenate((stfeats,sffeats,wpfeats),axis=1)\n"
      ],
      "execution_count": 0,
      "outputs": []
    },
    {
      "cell_type": "markdown",
      "metadata": {
        "id": "ykf5gRB5yrN2",
        "colab_type": "text"
      },
      "source": [
        "## Adaptation to no extract features"
      ]
    },
    {
      "cell_type": "code",
      "metadata": {
        "id": "KGFdq-O0y9ro",
        "colab_type": "code",
        "colab": {}
      },
      "source": [
        "class SignalAdapter(TransformerMixin):\n",
        "    def __init__(self):\n",
        "      pass\n",
        "    def fit(self, X, y=None):\n",
        "      return self\n",
        "    def transform(self, X, y=None):\n",
        "      return X.reshape(X.shape[0],-1)"
      ],
      "execution_count": 0,
      "outputs": []
    },
    {
      "cell_type": "markdown",
      "metadata": {
        "id": "EfKKDq2CwdYT",
        "colab_type": "text"
      },
      "source": [
        "## Function to plot confusion matrix"
      ]
    },
    {
      "cell_type": "code",
      "metadata": {
        "id": "mWVQ78h2wIDg",
        "colab_type": "code",
        "colab": {}
      },
      "source": [
        "import itertools\n",
        "from sklearn.metrics import confusion_matrix\n",
        "from matplotlib import pyplot as plt\n",
        "\n",
        "def plot_confusion_matrix(cm, classes,\n",
        "                          normalize=False,\n",
        "                          title='Confusion matrix',\n",
        "                          cmap=plt.cm.Greys):\n",
        "    \"\"\"\n",
        "    This function prints and plots the confusion matrix.\n",
        "    Normalization can be applied by setting `normalize=True`.\n",
        "    \"\"\"\n",
        "    if normalize:\n",
        "        cm = cm.astype('float') / cm.sum(axis=1)[:, np.newaxis]\n",
        "        print(\"Normalized confusion matrix\")\n",
        "    else:\n",
        "        print('Confusion matrix, without normalization')\n",
        "\n",
        "    #print(cm)\n",
        "\n",
        "    plt.imshow(cm, interpolation='nearest', cmap=cmap)\n",
        "    #plt.title(title)\n",
        "    #plt.colorbar()\n",
        "    tick_marks = np.arange(len(classes))\n",
        "    plt.xticks(tick_marks, classes, rotation=45)\n",
        "    plt.yticks(tick_marks, classes)\n",
        "\n",
        "    fmt = '.2f' if normalize else 'd'\n",
        "    thresh = cm.max() / 2.\n",
        "    for i, j in itertools.product(range(cm.shape[0]), range(cm.shape[1])):\n",
        "        plt.text(j, i, format(cm[i, j], fmt),\n",
        "                 horizontalalignment=\"center\",\n",
        "                 color=\"white\" if cm[i, j] > thresh else \"black\")\n",
        "\n",
        "    plt.tight_layout()\n",
        "    plt.ylabel('Classe verdadeira')\n",
        "    plt.xlabel('Classe estimada')\n"
      ],
      "execution_count": 0,
      "outputs": []
    },
    {
      "cell_type": "markdown",
      "metadata": {
        "id": "HkJBxWsAwjyL",
        "colab_type": "text"
      },
      "source": [
        "##3-dimentional Standar Scaler"
      ]
    },
    {
      "cell_type": "code",
      "metadata": {
        "id": "9vDoDCkjFlmv",
        "colab_type": "code",
        "colab": {}
      },
      "source": [
        "import numpy as np\n",
        "from sklearn.base import TransformerMixin\n",
        "from sklearn.preprocessing import StandardScaler\n",
        "\n",
        "\n",
        "class NDStandardScaler(TransformerMixin):\n",
        "    def __init__(self):\n",
        "        self._scaler = StandardScaler(copy=True)\n",
        "        self._orig_shape = None\n",
        "\n",
        "    def fit(self, X, y=None):\n",
        "        X = np.array(X)\n",
        "        # Save the original shape to reshape the flattened X later\n",
        "        # back to its original shape\n",
        "        if len(X.shape) > 1:\n",
        "            self._orig_shape = X.shape[1:]\n",
        "        X = self._flatten(X)\n",
        "        self._scaler.fit(X)\n",
        "        return self\n",
        "\n",
        "    def transform(self, X, y=None):\n",
        "        X = np.array(X)\n",
        "        X = self._flatten(X)\n",
        "        X = self._scaler.transform(X)\n",
        "        X = self._reshape(X)\n",
        "        return X\n",
        "\n",
        "    def _flatten(self, X):\n",
        "        # Reshape X to <= 2 dimensions\n",
        "        if len(X.shape) > 2:\n",
        "            n_dims = np.prod(self._orig_shape)\n",
        "            X = X.reshape(-1, n_dims)\n",
        "        return X\n",
        "\n",
        "    def _reshape(self, X):\n",
        "        # Reshape X back to it's original shape\n",
        "        if len(X.shape) >= 2:\n",
        "            X = X.reshape(-1, *self._orig_shape)\n",
        "        return X\n"
      ],
      "execution_count": 0,
      "outputs": []
    },
    {
      "cell_type": "markdown",
      "metadata": {
        "id": "gVMzwpLgwr7x",
        "colab_type": "text"
      },
      "source": [
        "## F1-Score macro for Keras"
      ]
    },
    {
      "cell_type": "code",
      "metadata": {
        "id": "8Ifq5jWZm8bH",
        "colab_type": "code",
        "colab": {}
      },
      "source": [
        "from keras import backend as K\n",
        "def f1_score_macro(y_true,y_pred):\n",
        "    def recall(y_true, y_pred):\n",
        "        true_positives = K.sum(K.round(K.clip(y_true * y_pred, 0, 1)))\n",
        "        possible_positives = K.sum(K.round(K.clip(y_true, 0, 1)))\n",
        "        recall = true_positives / (possible_positives + K.epsilon())\n",
        "        return recall\n",
        "    def precision(y_true, y_pred):\n",
        "        true_positives = K.sum(K.round(K.clip(y_true * y_pred, 0, 1)))\n",
        "        predicted_positives = K.sum(K.round(K.clip(y_pred, 0, 1)))\n",
        "        precision = true_positives / (predicted_positives + K.epsilon())\n",
        "        return precision\n",
        "    precision = precision(y_true, y_pred)\n",
        "    recall = recall(y_true, y_pred)\n",
        "    return 2*((precision*recall)/(precision+recall+K.epsilon()))\n"
      ],
      "execution_count": 0,
      "outputs": []
    },
    {
      "cell_type": "markdown",
      "metadata": {
        "id": "3zwwFzOBwyHl",
        "colab_type": "text"
      },
      "source": [
        "## ANN definition"
      ]
    },
    {
      "cell_type": "code",
      "metadata": {
        "id": "A-vnIkqNwIDb",
        "colab_type": "code",
        "colab": {}
      },
      "source": [
        "from keras import layers\n",
        "from keras import Input\n",
        "from keras.models import Model\n",
        "from keras.callbacks import EarlyStopping,ReduceLROnPlateau\n",
        "from keras.utils import to_categorical\n",
        "\n",
        "from sklearn.base import BaseEstimator, ClassifierMixin\n",
        "from sklearn.utils import shuffle\n",
        "class ANNConv1D(BaseEstimator, ClassifierMixin):\n",
        "  def __init__(self, filters=16, kernel_size=22, shape=X_train.shape):\n",
        "    self.shape = shape\n",
        "    self.filters = filters\n",
        "    self.kernel_size = kernel_size\n",
        "\n",
        "  def fit(self, X, y=None):\n",
        "    y_cat = to_categorical(y)\n",
        "    signal_input = Input(shape=(self.shape[1],self.shape[-1]),\n",
        "                         dtype='float32', name='signal')\n",
        "    x = layers.Conv1D(filters=self.filters, \n",
        "                      kernel_size=self.kernel_size, \n",
        "                      activation='relu', \n",
        "                      name='conv1d_1')(signal_input)\n",
        "    x = layers.MaxPooling1D(self.kernel_size, \n",
        "                            name='max_pooling1d_1')(x)\n",
        "    x = layers.Flatten(name='flatten')(x)\n",
        "    condition_output = layers.Dense(7,activation='softmax',\n",
        "                                    name='condition')(x)\n",
        "    self.model = Model(signal_input, condition_output) \n",
        "    self.model.compile(optimizer='rmsprop',\n",
        "                       loss='mean_squared_error', \n",
        "                       metrics=['accuracy',f1_score_macro])\n",
        "      \n",
        "    self.history = self.model.fit(X ,y_cat, epochs=50, \n",
        "                                  validation_split=0.3,\n",
        "                                  callbacks=[EarlyStopping(patience=3),\n",
        "                                             ReduceLROnPlateau()],\n",
        "                                  verbose=1)\n",
        "    return self\n",
        "\n",
        "  def predict(self, X, y=None):\n",
        "    return np.argmax(self.model.predict(X), axis=1)\n"
      ],
      "execution_count": 0,
      "outputs": []
    },
    {
      "cell_type": "markdown",
      "metadata": {
        "id": "TB4Gplcgw1v0",
        "colab_type": "text"
      },
      "source": [
        "## Setup of pipelines and grid searches"
      ]
    },
    {
      "cell_type": "code",
      "metadata": {
        "id": "tIVAsRNawIDj",
        "colab_type": "code",
        "colab": {}
      },
      "source": [
        "from sklearn.pipeline import Pipeline\n",
        "from sklearn.preprocessing import StandardScaler\n",
        "from sklearn.neighbors import KNeighborsClassifier\n",
        "from sklearn.ensemble import RandomForestClassifier\n",
        "from sklearn.model_selection import GridSearchCV\n",
        "from sklearn.model_selection import StratifiedKFold\n",
        "\n",
        "# K-NN with Feateure Extraction\n",
        "p_knn = Pipeline([('feature_extraction', Heterogeneous()),\n",
        "                  ('std_scaler', StandardScaler()),\n",
        "                  ('knn', KNeighborsClassifier()),\n",
        "                 ])\n",
        "grid_knn = GridSearchCV(p_knn, param_grid={\"knn__n_neighbors\": [1,3,5,7,9,11]}, \n",
        "                        cv=StratifiedKFold(3), verbose=2)\n",
        "\n",
        "# Random Forest without Feature Extraction\n",
        "p_rf = Pipeline([('signal_adapter', SignalAdapter()),\n",
        "                 ('std_scaler', StandardScaler()),\n",
        "                 ('rf', RandomForestClassifier()),\n",
        "                ])\n",
        "grid_rf = GridSearchCV(p_rf, param_grid={\"rf__n_estimators\": [10, 20], \n",
        "                                         \"rf__max_features\": [4, 8, None],\n",
        "                                        },\n",
        "                       cv=StratifiedKFold(3), verbose=2)\n",
        "\n",
        "# Random Forest with Feature Extraction\n",
        "p_rf_wfe = Pipeline([('feature_extraction', Heterogeneous()),\n",
        "                 ('std_scaler', StandardScaler()),\n",
        "                 ('rf', RandomForestClassifier()),\n",
        "                ])\n",
        "grid_rf_wfe = GridSearchCV(p_rf_wfe, param_grid={\"rf__n_estimators\": [10, 20],\n",
        "                                                 \"rf__max_features\": [4, 8, None],\n",
        "                                                },\n",
        "                           cv=StratifiedKFold(3), verbose=2)\n",
        "\n",
        "# Artificial Neural Network - Conv1d\n",
        "p_ann = Pipeline([('std_scaler', NDStandardScaler()),\n",
        "                  ('conv1d', ANNConv1D(shape=X_train.shape)),\n",
        "                 ])\n",
        "grid_ann = GridSearchCV(p_ann, \n",
        "                        param_grid={'conv1d__filters': [64, 128], \n",
        "                                    'conv1d__kernel_size': [13, 27, 55],\n",
        "                                   }, \n",
        "                        cv=StratifiedKFold(3), verbose=2)\n",
        "\n",
        "# List of Classifiers\n",
        "clfs = [(\"K-NN with Feateure Extraction\", grid_knn),\n",
        "        (\"Random Forest without Feature Extraction\", grid_rf),\n",
        "        (\"Random Forest with Feature Extraction\", grid_rf_wfe),\n",
        "        (\"Artificial Neural Network - Conv1d\", grid_ann),\n",
        "       ]\n"
      ],
      "execution_count": 0,
      "outputs": []
    },
    {
      "cell_type": "markdown",
      "metadata": {
        "id": "PFSYwlvow_k7",
        "colab_type": "text"
      },
      "source": [
        "## Perform the experiments"
      ]
    },
    {
      "cell_type": "code",
      "metadata": {
        "id": "K9QS4dJzwIDl",
        "colab_type": "code",
        "outputId": "e577183b-8fa6-4572-9241-59c979d1fd4c",
        "colab": {
          "base_uri": "https://localhost:8080/",
          "height": 1000
        }
      },
      "source": [
        "from sklearn.metrics import f1_score, accuracy_score\n",
        "\n",
        "class_names = list(set(y_train))\n",
        "class_names = ['Neutral', 'Gesture 1', 'Gesture 2', 'Gesture 3', 'Gesture 4', 'Gesture 5', 'Gesture 6']\n",
        "figprop = np.linspace(1, 0.5, 25)\n",
        "tam = len(class_names) * figprop[len(class_names)]\n",
        "\n",
        "\n",
        "results = {}\n",
        "models = {}\n",
        "genconfmat = True\n",
        "results['st'] = {}\n",
        "models['st'] = {}\n",
        "\n",
        "for clfname, model in clfs:\n",
        "    print(clfname, end=\":\\t\")\n",
        "    '''\n",
        "    if not clfname in results['st']:\n",
        "        results['st'][clfname] = []\n",
        "    '''\n",
        "    history = model.fit(X_train ,y_train)\n",
        "    print(model.best_params_)\n",
        "    '''\n",
        "    y_pred = model.predict(X_test)\n",
        "    results['st'][clfname].append([accuracy_score(y_test,y_pred),f1_score(y_test,y_pred,average='macro')])\n",
        "    print(results['st'][clfname][-1])\n",
        "    if genconfmat:\n",
        "        cnf_matrix = confusion_matrix(y_test, y_pred)\n",
        "        print(cnf_matrix)\n",
        "        plt.figure(figsize=(tam,tam))\n",
        "        plot_confusion_matrix(cnf_matrix, classes=class_names, title=clfname, normalize=False)\n",
        "        plt.show()\n",
        "        plot_confusion_matrix(cnf_matrix, classes=class_names, title=clfname, normalize=True)\n",
        "        #plt.savefig('cnfmatrix_st'+clfname+str(fold)+'round'+str(j)+'.png')\n",
        "        plt.show()\n",
        "    '''\n"
      ],
      "execution_count": 0,
      "outputs": [
        {
          "output_type": "stream",
          "text": [
            "K-NN with Feateure Extraction:\tFitting 3 folds for each of 6 candidates, totalling 18 fits\n",
            "[CV] knn__n_neighbors=1 ..............................................\n"
          ],
          "name": "stdout"
        },
        {
          "output_type": "stream",
          "text": [
            "[Parallel(n_jobs=1)]: Using backend SequentialBackend with 1 concurrent workers.\n"
          ],
          "name": "stderr"
        },
        {
          "output_type": "stream",
          "text": [
            "[CV] ............................... knn__n_neighbors=1, total=  30.1s\n",
            "[CV] knn__n_neighbors=1 ..............................................\n"
          ],
          "name": "stdout"
        },
        {
          "output_type": "stream",
          "text": [
            "[Parallel(n_jobs=1)]: Done   1 out of   1 | elapsed:   30.1s remaining:    0.0s\n"
          ],
          "name": "stderr"
        },
        {
          "output_type": "stream",
          "text": [
            "[CV] ............................... knn__n_neighbors=1, total=  30.3s\n",
            "[CV] knn__n_neighbors=1 ..............................................\n",
            "[CV] ............................... knn__n_neighbors=1, total=  30.4s\n",
            "[CV] knn__n_neighbors=3 ..............................................\n",
            "[CV] ............................... knn__n_neighbors=3, total=  30.3s\n",
            "[CV] knn__n_neighbors=3 ..............................................\n",
            "[CV] ............................... knn__n_neighbors=3, total=  30.6s\n",
            "[CV] knn__n_neighbors=3 ..............................................\n",
            "[CV] ............................... knn__n_neighbors=3, total=  30.7s\n",
            "[CV] knn__n_neighbors=5 ..............................................\n",
            "[CV] ............................... knn__n_neighbors=5, total=  30.8s\n",
            "[CV] knn__n_neighbors=5 ..............................................\n",
            "[CV] ............................... knn__n_neighbors=5, total=  30.2s\n",
            "[CV] knn__n_neighbors=5 ..............................................\n",
            "[CV] ............................... knn__n_neighbors=5, total=  31.1s\n",
            "[CV] knn__n_neighbors=7 ..............................................\n",
            "[CV] ............................... knn__n_neighbors=7, total=  30.3s\n",
            "[CV] knn__n_neighbors=7 ..............................................\n",
            "[CV] ............................... knn__n_neighbors=7, total=  30.8s\n",
            "[CV] knn__n_neighbors=7 ..............................................\n",
            "[CV] ............................... knn__n_neighbors=7, total=  30.0s\n",
            "[CV] knn__n_neighbors=9 ..............................................\n",
            "[CV] ............................... knn__n_neighbors=9, total=  30.4s\n",
            "[CV] knn__n_neighbors=9 ..............................................\n",
            "[CV] ............................... knn__n_neighbors=9, total=  30.5s\n",
            "[CV] knn__n_neighbors=9 ..............................................\n",
            "[CV] ............................... knn__n_neighbors=9, total=  30.9s\n",
            "[CV] knn__n_neighbors=11 .............................................\n",
            "[CV] .............................. knn__n_neighbors=11, total=  30.9s\n",
            "[CV] knn__n_neighbors=11 .............................................\n",
            "[CV] .............................. knn__n_neighbors=11, total=  30.7s\n",
            "[CV] knn__n_neighbors=11 .............................................\n",
            "[CV] .............................. knn__n_neighbors=11, total=  30.3s\n"
          ],
          "name": "stdout"
        },
        {
          "output_type": "stream",
          "text": [
            "[Parallel(n_jobs=1)]: Done  18 out of  18 | elapsed:  9.2min finished\n"
          ],
          "name": "stderr"
        },
        {
          "output_type": "stream",
          "text": [
            "{'knn__n_neighbors': 11}\n",
            "Random Forest without Feature Extraction:\tFitting 3 folds for each of 6 candidates, totalling 18 fits\n",
            "[CV] rf__max_features=4, rf__n_estimators=10 .........................\n",
            "[CV] .......... rf__max_features=4, rf__n_estimators=10, total=   0.1s\n",
            "[CV] rf__max_features=4, rf__n_estimators=10 .........................\n",
            "[CV] .......... rf__max_features=4, rf__n_estimators=10, total=   0.1s\n",
            "[CV] rf__max_features=4, rf__n_estimators=10 .........................\n"
          ],
          "name": "stdout"
        },
        {
          "output_type": "stream",
          "text": [
            "[Parallel(n_jobs=1)]: Using backend SequentialBackend with 1 concurrent workers.\n",
            "[Parallel(n_jobs=1)]: Done   1 out of   1 | elapsed:    0.1s remaining:    0.0s\n"
          ],
          "name": "stderr"
        },
        {
          "output_type": "stream",
          "text": [
            "[CV] .......... rf__max_features=4, rf__n_estimators=10, total=   0.1s\n",
            "[CV] rf__max_features=4, rf__n_estimators=20 .........................\n",
            "[CV] .......... rf__max_features=4, rf__n_estimators=20, total=   0.1s\n",
            "[CV] rf__max_features=4, rf__n_estimators=20 .........................\n",
            "[CV] .......... rf__max_features=4, rf__n_estimators=20, total=   0.1s\n",
            "[CV] rf__max_features=4, rf__n_estimators=20 .........................\n",
            "[CV] .......... rf__max_features=4, rf__n_estimators=20, total=   0.1s\n",
            "[CV] rf__max_features=8, rf__n_estimators=10 .........................\n",
            "[CV] .......... rf__max_features=8, rf__n_estimators=10, total=   0.1s\n",
            "[CV] rf__max_features=8, rf__n_estimators=10 .........................\n",
            "[CV] .......... rf__max_features=8, rf__n_estimators=10, total=   0.1s\n",
            "[CV] rf__max_features=8, rf__n_estimators=10 .........................\n",
            "[CV] .......... rf__max_features=8, rf__n_estimators=10, total=   0.1s\n",
            "[CV] rf__max_features=8, rf__n_estimators=20 .........................\n",
            "[CV] .......... rf__max_features=8, rf__n_estimators=20, total=   0.1s\n",
            "[CV] rf__max_features=8, rf__n_estimators=20 .........................\n",
            "[CV] .......... rf__max_features=8, rf__n_estimators=20, total=   0.1s\n",
            "[CV] rf__max_features=8, rf__n_estimators=20 .........................\n",
            "[CV] .......... rf__max_features=8, rf__n_estimators=20, total=   0.1s\n",
            "[CV] rf__max_features=None, rf__n_estimators=10 ......................\n",
            "[CV] ....... rf__max_features=None, rf__n_estimators=10, total=   3.0s\n",
            "[CV] rf__max_features=None, rf__n_estimators=10 ......................\n",
            "[CV] ....... rf__max_features=None, rf__n_estimators=10, total=   3.0s\n",
            "[CV] rf__max_features=None, rf__n_estimators=10 ......................\n",
            "[CV] ....... rf__max_features=None, rf__n_estimators=10, total=   3.1s\n",
            "[CV] rf__max_features=None, rf__n_estimators=20 ......................\n",
            "[CV] ....... rf__max_features=None, rf__n_estimators=20, total=   5.8s\n",
            "[CV] rf__max_features=None, rf__n_estimators=20 ......................\n",
            "[CV] ....... rf__max_features=None, rf__n_estimators=20, total=   5.9s\n",
            "[CV] rf__max_features=None, rf__n_estimators=20 ......................\n",
            "[CV] ....... rf__max_features=None, rf__n_estimators=20, total=   6.0s\n",
            "{'rf__max_features': 8, 'rf__n_estimators': 20}\n",
            "Random Forest with Feature Extraction:\tFitting 3 folds for each of 6 candidates, totalling 18 fits\n",
            "[CV] rf__max_features=4, rf__n_estimators=10 .........................\n"
          ],
          "name": "stdout"
        },
        {
          "output_type": "stream",
          "text": [
            "[Parallel(n_jobs=1)]: Done  18 out of  18 | elapsed:   28.2s finished\n",
            "[Parallel(n_jobs=1)]: Using backend SequentialBackend with 1 concurrent workers.\n"
          ],
          "name": "stderr"
        },
        {
          "output_type": "stream",
          "text": [
            "[CV] .......... rf__max_features=4, rf__n_estimators=10, total=  30.1s\n",
            "[CV] rf__max_features=4, rf__n_estimators=10 .........................\n"
          ],
          "name": "stdout"
        },
        {
          "output_type": "stream",
          "text": [
            "[Parallel(n_jobs=1)]: Done   1 out of   1 | elapsed:   30.1s remaining:    0.0s\n"
          ],
          "name": "stderr"
        },
        {
          "output_type": "stream",
          "text": [
            "[CV] .......... rf__max_features=4, rf__n_estimators=10, total=  30.4s\n",
            "[CV] rf__max_features=4, rf__n_estimators=10 .........................\n",
            "[CV] .......... rf__max_features=4, rf__n_estimators=10, total=  30.3s\n",
            "[CV] rf__max_features=4, rf__n_estimators=20 .........................\n",
            "[CV] .......... rf__max_features=4, rf__n_estimators=20, total=  30.0s\n",
            "[CV] rf__max_features=4, rf__n_estimators=20 .........................\n",
            "[CV] .......... rf__max_features=4, rf__n_estimators=20, total=  30.4s\n",
            "[CV] rf__max_features=4, rf__n_estimators=20 .........................\n",
            "[CV] .......... rf__max_features=4, rf__n_estimators=20, total=  30.3s\n",
            "[CV] rf__max_features=8, rf__n_estimators=10 .........................\n",
            "[CV] .......... rf__max_features=8, rf__n_estimators=10, total=  30.0s\n",
            "[CV] rf__max_features=8, rf__n_estimators=10 .........................\n",
            "[CV] .......... rf__max_features=8, rf__n_estimators=10, total=  30.4s\n",
            "[CV] rf__max_features=8, rf__n_estimators=10 .........................\n",
            "[CV] .......... rf__max_features=8, rf__n_estimators=10, total=  30.4s\n",
            "[CV] rf__max_features=8, rf__n_estimators=20 .........................\n",
            "[CV] .......... rf__max_features=8, rf__n_estimators=20, total=  30.6s\n",
            "[CV] rf__max_features=8, rf__n_estimators=20 .........................\n",
            "[CV] .......... rf__max_features=8, rf__n_estimators=20, total=  30.9s\n",
            "[CV] rf__max_features=8, rf__n_estimators=20 .........................\n",
            "[CV] .......... rf__max_features=8, rf__n_estimators=20, total=  30.3s\n",
            "[CV] rf__max_features=None, rf__n_estimators=10 ......................\n",
            "[CV] ....... rf__max_features=None, rf__n_estimators=10, total=  31.1s\n",
            "[CV] rf__max_features=None, rf__n_estimators=10 ......................\n",
            "[CV] ....... rf__max_features=None, rf__n_estimators=10, total=  30.4s\n",
            "[CV] rf__max_features=None, rf__n_estimators=10 ......................\n",
            "[CV] ....... rf__max_features=None, rf__n_estimators=10, total=  31.2s\n",
            "[CV] rf__max_features=None, rf__n_estimators=20 ......................\n",
            "[CV] ....... rf__max_features=None, rf__n_estimators=20, total=  31.9s\n",
            "[CV] rf__max_features=None, rf__n_estimators=20 ......................\n",
            "[CV] ....... rf__max_features=None, rf__n_estimators=20, total=  31.6s\n",
            "[CV] rf__max_features=None, rf__n_estimators=20 ......................\n",
            "[CV] ....... rf__max_features=None, rf__n_estimators=20, total=  31.7s\n"
          ],
          "name": "stdout"
        },
        {
          "output_type": "stream",
          "text": [
            "[Parallel(n_jobs=1)]: Done  18 out of  18 | elapsed:  9.2min finished\n"
          ],
          "name": "stderr"
        },
        {
          "output_type": "stream",
          "text": [
            "{'rf__max_features': None, 'rf__n_estimators': 20}\n",
            "Artificial Neural Network - Conv1d:\tFitting 3 folds for each of 6 candidates, totalling 18 fits\n",
            "[CV] conv1d__filters=64, conv1d__kernel_size=13 ......................\n"
          ],
          "name": "stdout"
        },
        {
          "output_type": "stream",
          "text": [
            "[Parallel(n_jobs=1)]: Using backend SequentialBackend with 1 concurrent workers.\n"
          ],
          "name": "stderr"
        },
        {
          "output_type": "stream",
          "text": [
            "Train on 1004 samples, validate on 431 samples\n",
            "Epoch 1/50\n",
            "1004/1004 [==============================] - 2s 2ms/step - loss: 0.0645 - acc: 0.6863 - f1_score_macro: 0.6214 - val_loss: 0.0384 - val_acc: 0.8376 - val_f1_score_macro: 0.8146\n",
            "Epoch 2/50\n",
            "1004/1004 [==============================] - 0s 209us/step - loss: 0.0175 - acc: 0.9472 - f1_score_macro: 0.9338 - val_loss: 0.0237 - val_acc: 0.9026 - val_f1_score_macro: 0.8915\n",
            "Epoch 3/50\n",
            "1004/1004 [==============================] - 0s 198us/step - loss: 0.0080 - acc: 0.9751 - f1_score_macro: 0.9735 - val_loss: 0.0193 - val_acc: 0.9118 - val_f1_score_macro: 0.9110\n",
            "Epoch 4/50\n",
            "1004/1004 [==============================] - 0s 184us/step - loss: 0.0041 - acc: 0.9890 - f1_score_macro: 0.9868 - val_loss: 0.0166 - val_acc: 0.9327 - val_f1_score_macro: 0.9281\n",
            "Epoch 5/50\n",
            "1004/1004 [==============================] - 0s 206us/step - loss: 0.0024 - acc: 0.9960 - f1_score_macro: 0.9935 - val_loss: 0.0121 - val_acc: 0.9582 - val_f1_score_macro: 0.9517\n",
            "Epoch 6/50\n",
            "1004/1004 [==============================] - 0s 188us/step - loss: 0.0013 - acc: 0.9970 - f1_score_macro: 0.9960 - val_loss: 0.0106 - val_acc: 0.9513 - val_f1_score_macro: 0.9485\n",
            "Epoch 7/50\n",
            "1004/1004 [==============================] - 0s 192us/step - loss: 0.0010 - acc: 0.9970 - f1_score_macro: 0.9970 - val_loss: 0.0101 - val_acc: 0.9559 - val_f1_score_macro: 0.9577\n",
            "Epoch 8/50\n",
            "1004/1004 [==============================] - 0s 192us/step - loss: 6.2396e-04 - acc: 0.9990 - f1_score_macro: 0.9990 - val_loss: 0.0102 - val_acc: 0.9582 - val_f1_score_macro: 0.9567\n",
            "Epoch 9/50\n",
            "1004/1004 [==============================] - 0s 181us/step - loss: 4.3336e-04 - acc: 0.9990 - f1_score_macro: 0.9990 - val_loss: 0.0091 - val_acc: 0.9629 - val_f1_score_macro: 0.9602\n",
            "Epoch 10/50\n",
            "1004/1004 [==============================] - 0s 195us/step - loss: 3.3539e-04 - acc: 0.9990 - f1_score_macro: 0.9990 - val_loss: 0.0083 - val_acc: 0.9629 - val_f1_score_macro: 0.9650\n",
            "Epoch 11/50\n",
            "1004/1004 [==============================] - 0s 188us/step - loss: 3.5475e-04 - acc: 0.9990 - f1_score_macro: 0.9990 - val_loss: 0.0092 - val_acc: 0.9582 - val_f1_score_macro: 0.9566\n",
            "Epoch 12/50\n",
            "1004/1004 [==============================] - 0s 186us/step - loss: 3.1619e-04 - acc: 0.9990 - f1_score_macro: 0.9990 - val_loss: 0.0100 - val_acc: 0.9490 - val_f1_score_macro: 0.9521\n",
            "Epoch 13/50\n",
            "1004/1004 [==============================] - 0s 197us/step - loss: 2.5872e-04 - acc: 0.9990 - f1_score_macro: 0.9990 - val_loss: 0.0082 - val_acc: 0.9652 - val_f1_score_macro: 0.9661\n",
            "Epoch 14/50\n",
            "1004/1004 [==============================] - 0s 184us/step - loss: 2.9701e-04 - acc: 0.9990 - f1_score_macro: 0.9990 - val_loss: 0.0085 - val_acc: 0.9582 - val_f1_score_macro: 0.9591\n",
            "Epoch 15/50\n",
            "1004/1004 [==============================] - 0s 189us/step - loss: 3.1019e-04 - acc: 0.9990 - f1_score_macro: 0.9990 - val_loss: 0.0086 - val_acc: 0.9559 - val_f1_score_macro: 0.9567\n",
            "Epoch 16/50\n",
            "1004/1004 [==============================] - 0s 216us/step - loss: 2.8951e-04 - acc: 0.9990 - f1_score_macro: 0.9990 - val_loss: 0.0087 - val_acc: 0.9582 - val_f1_score_macro: 0.9581\n",
            "[CV] ....... conv1d__filters=64, conv1d__kernel_size=13, total=   5.8s\n",
            "[CV] conv1d__filters=64, conv1d__kernel_size=13 ......................\n"
          ],
          "name": "stdout"
        },
        {
          "output_type": "stream",
          "text": [
            "[Parallel(n_jobs=1)]: Done   1 out of   1 | elapsed:    5.8s remaining:    0.0s\n"
          ],
          "name": "stderr"
        },
        {
          "output_type": "stream",
          "text": [
            "Train on 1006 samples, validate on 432 samples\n",
            "Epoch 1/50\n",
            "1006/1006 [==============================] - 2s 2ms/step - loss: 0.0554 - acc: 0.7346 - f1_score_macro: 0.6868 - val_loss: 0.0346 - val_acc: 0.8588 - val_f1_score_macro: 0.8551\n",
            "Epoch 2/50\n",
            "1006/1006 [==============================] - 0s 216us/step - loss: 0.0168 - acc: 0.9344 - f1_score_macro: 0.9265 - val_loss: 0.0208 - val_acc: 0.9190 - val_f1_score_macro: 0.9027\n",
            "Epoch 3/50\n",
            "1006/1006 [==============================] - 0s 184us/step - loss: 0.0067 - acc: 0.9801 - f1_score_macro: 0.9767 - val_loss: 0.0182 - val_acc: 0.9190 - val_f1_score_macro: 0.9184\n",
            "Epoch 4/50\n",
            "1006/1006 [==============================] - 0s 219us/step - loss: 0.0027 - acc: 0.9950 - f1_score_macro: 0.9955 - val_loss: 0.0150 - val_acc: 0.9306 - val_f1_score_macro: 0.9305\n",
            "Epoch 5/50\n",
            "1006/1006 [==============================] - 0s 200us/step - loss: 0.0012 - acc: 0.9990 - f1_score_macro: 0.9990 - val_loss: 0.0153 - val_acc: 0.9236 - val_f1_score_macro: 0.9240\n",
            "Epoch 6/50\n",
            "1006/1006 [==============================] - 0s 188us/step - loss: 5.2256e-04 - acc: 1.0000 - f1_score_macro: 0.9995 - val_loss: 0.0161 - val_acc: 0.9259 - val_f1_score_macro: 0.9277\n",
            "Epoch 7/50\n",
            "1006/1006 [==============================] - 0s 190us/step - loss: 2.9037e-04 - acc: 1.0000 - f1_score_macro: 1.0000 - val_loss: 0.0140 - val_acc: 0.9282 - val_f1_score_macro: 0.9301\n",
            "Epoch 8/50\n",
            "1006/1006 [==============================] - 0s 192us/step - loss: 1.1100e-04 - acc: 1.0000 - f1_score_macro: 1.0000 - val_loss: 0.0167 - val_acc: 0.9236 - val_f1_score_macro: 0.9234\n",
            "Epoch 9/50\n",
            "1006/1006 [==============================] - 0s 216us/step - loss: 7.4040e-05 - acc: 1.0000 - f1_score_macro: 1.0000 - val_loss: 0.0135 - val_acc: 0.9398 - val_f1_score_macro: 0.9383\n",
            "Epoch 10/50\n",
            "1006/1006 [==============================] - 0s 190us/step - loss: 3.1663e-05 - acc: 1.0000 - f1_score_macro: 1.0000 - val_loss: 0.0131 - val_acc: 0.9444 - val_f1_score_macro: 0.9429\n",
            "Epoch 11/50\n",
            "1006/1006 [==============================] - 0s 193us/step - loss: 1.5032e-05 - acc: 1.0000 - f1_score_macro: 1.0000 - val_loss: 0.0139 - val_acc: 0.9352 - val_f1_score_macro: 0.9406\n",
            "Epoch 12/50\n",
            "1006/1006 [==============================] - 0s 203us/step - loss: 2.6574e-05 - acc: 1.0000 - f1_score_macro: 1.0000 - val_loss: 0.0131 - val_acc: 0.9421 - val_f1_score_macro: 0.9433\n",
            "Epoch 13/50\n",
            "1006/1006 [==============================] - 0s 180us/step - loss: 3.8095e-06 - acc: 1.0000 - f1_score_macro: 1.0000 - val_loss: 0.0136 - val_acc: 0.9398 - val_f1_score_macro: 0.9405\n",
            "[CV] ....... conv1d__filters=64, conv1d__kernel_size=13, total=   5.7s\n",
            "[CV] conv1d__filters=64, conv1d__kernel_size=13 ......................\n",
            "Train on 1007 samples, validate on 432 samples\n",
            "Epoch 1/50\n",
            "1007/1007 [==============================] - 2s 2ms/step - loss: 0.0566 - acc: 0.7180 - f1_score_macro: 0.6835 - val_loss: 0.0356 - val_acc: 0.8750 - val_f1_score_macro: 0.8419\n",
            "Epoch 2/50\n",
            "1007/1007 [==============================] - 0s 206us/step - loss: 0.0188 - acc: 0.9325 - f1_score_macro: 0.9172 - val_loss: 0.0217 - val_acc: 0.9329 - val_f1_score_macro: 0.9238\n",
            "Epoch 3/50\n",
            "1007/1007 [==============================] - 0s 200us/step - loss: 0.0085 - acc: 0.9722 - f1_score_macro: 0.9652 - val_loss: 0.0161 - val_acc: 0.9468 - val_f1_score_macro: 0.9466\n",
            "Epoch 4/50\n",
            "1007/1007 [==============================] - 0s 182us/step - loss: 0.0045 - acc: 0.9921 - f1_score_macro: 0.9889 - val_loss: 0.0143 - val_acc: 0.9468 - val_f1_score_macro: 0.9481\n",
            "Epoch 5/50\n",
            "1007/1007 [==============================] - 0s 188us/step - loss: 0.0023 - acc: 0.9970 - f1_score_macro: 0.9955 - val_loss: 0.0119 - val_acc: 0.9537 - val_f1_score_macro: 0.9530\n",
            "Epoch 6/50\n",
            "1007/1007 [==============================] - 0s 197us/step - loss: 0.0018 - acc: 0.9950 - f1_score_macro: 0.9950 - val_loss: 0.0122 - val_acc: 0.9468 - val_f1_score_macro: 0.9504\n",
            "Epoch 7/50\n",
            "1007/1007 [==============================] - 0s 195us/step - loss: 0.0011 - acc: 0.9980 - f1_score_macro: 0.9980 - val_loss: 0.0142 - val_acc: 0.9421 - val_f1_score_macro: 0.9460\n",
            "Epoch 8/50\n",
            "1007/1007 [==============================] - 0s 191us/step - loss: 8.9385e-04 - acc: 0.9980 - f1_score_macro: 0.9980 - val_loss: 0.0113 - val_acc: 0.9606 - val_f1_score_macro: 0.9552\n",
            "Epoch 9/50\n",
            "1007/1007 [==============================] - 0s 185us/step - loss: 6.9650e-04 - acc: 0.9980 - f1_score_macro: 0.9980 - val_loss: 0.0119 - val_acc: 0.9537 - val_f1_score_macro: 0.9540\n",
            "Epoch 10/50\n",
            "1007/1007 [==============================] - 0s 189us/step - loss: 6.2485e-04 - acc: 0.9980 - f1_score_macro: 0.9980 - val_loss: 0.0139 - val_acc: 0.9398 - val_f1_score_macro: 0.9403\n",
            "Epoch 11/50\n",
            "1007/1007 [==============================] - 0s 223us/step - loss: 6.3375e-04 - acc: 0.9980 - f1_score_macro: 0.9980 - val_loss: 0.0121 - val_acc: 0.9537 - val_f1_score_macro: 0.9509\n",
            "[CV] ....... conv1d__filters=64, conv1d__kernel_size=13, total=   5.0s\n",
            "[CV] conv1d__filters=64, conv1d__kernel_size=27 ......................\n",
            "Train on 1004 samples, validate on 431 samples\n",
            "Epoch 1/50\n",
            "1004/1004 [==============================] - 2s 2ms/step - loss: 0.0533 - acc: 0.7629 - f1_score_macro: 0.7230 - val_loss: 0.0410 - val_acc: 0.8399 - val_f1_score_macro: 0.8236\n",
            "Epoch 2/50\n",
            "1004/1004 [==============================] - 0s 211us/step - loss: 0.0124 - acc: 0.9641 - f1_score_macro: 0.9514 - val_loss: 0.0189 - val_acc: 0.9188 - val_f1_score_macro: 0.9138\n",
            "Epoch 3/50\n",
            "1004/1004 [==============================] - 0s 218us/step - loss: 0.0043 - acc: 0.9900 - f1_score_macro: 0.9879 - val_loss: 0.0155 - val_acc: 0.9350 - val_f1_score_macro: 0.9374\n",
            "Epoch 4/50\n",
            "1004/1004 [==============================] - 0s 195us/step - loss: 0.0017 - acc: 0.9980 - f1_score_macro: 0.9980 - val_loss: 0.0133 - val_acc: 0.9466 - val_f1_score_macro: 0.9382\n",
            "Epoch 5/50\n",
            "1004/1004 [==============================] - 0s 222us/step - loss: 0.0011 - acc: 0.9990 - f1_score_macro: 0.9975 - val_loss: 0.0108 - val_acc: 0.9559 - val_f1_score_macro: 0.9541\n",
            "Epoch 6/50\n",
            "1004/1004 [==============================] - 0s 191us/step - loss: 8.5350e-04 - acc: 0.9980 - f1_score_macro: 0.9980 - val_loss: 0.0100 - val_acc: 0.9559 - val_f1_score_macro: 0.9564\n",
            "Epoch 7/50\n",
            "1004/1004 [==============================] - 0s 194us/step - loss: 3.6972e-04 - acc: 0.9990 - f1_score_macro: 0.9990 - val_loss: 0.0115 - val_acc: 0.9490 - val_f1_score_macro: 0.9497\n",
            "Epoch 8/50\n",
            "1004/1004 [==============================] - 0s 196us/step - loss: 4.0647e-04 - acc: 0.9990 - f1_score_macro: 0.9990 - val_loss: 0.0103 - val_acc: 0.9582 - val_f1_score_macro: 0.9557\n",
            "Epoch 9/50\n",
            "1004/1004 [==============================] - 0s 190us/step - loss: 3.1372e-04 - acc: 0.9990 - f1_score_macro: 0.9990 - val_loss: 0.0101 - val_acc: 0.9582 - val_f1_score_macro: 0.9568\n",
            "[CV] ....... conv1d__filters=64, conv1d__kernel_size=27, total=   4.8s\n",
            "[CV] conv1d__filters=64, conv1d__kernel_size=27 ......................\n",
            "Train on 1006 samples, validate on 432 samples\n",
            "Epoch 1/50\n",
            "1006/1006 [==============================] - 2s 2ms/step - loss: 0.0562 - acc: 0.7306 - f1_score_macro: 0.6940 - val_loss: 0.0309 - val_acc: 0.9190 - val_f1_score_macro: 0.8877\n",
            "Epoch 2/50\n",
            "1006/1006 [==============================] - 0s 232us/step - loss: 0.0088 - acc: 0.9771 - f1_score_macro: 0.9724 - val_loss: 0.0175 - val_acc: 0.9537 - val_f1_score_macro: 0.9314\n",
            "Epoch 3/50\n",
            "1006/1006 [==============================] - 0s 215us/step - loss: 0.0035 - acc: 0.9911 - f1_score_macro: 0.9905 - val_loss: 0.0126 - val_acc: 0.9630 - val_f1_score_macro: 0.9540\n",
            "Epoch 4/50\n",
            "1006/1006 [==============================] - 0s 193us/step - loss: 0.0010 - acc: 0.9990 - f1_score_macro: 0.9975 - val_loss: 0.0103 - val_acc: 0.9653 - val_f1_score_macro: 0.9638\n",
            "Epoch 5/50\n",
            "1006/1006 [==============================] - 0s 214us/step - loss: 3.4779e-04 - acc: 1.0000 - f1_score_macro: 1.0000 - val_loss: 0.0092 - val_acc: 0.9676 - val_f1_score_macro: 0.9696\n",
            "Epoch 6/50\n",
            "1006/1006 [==============================] - 0s 213us/step - loss: 2.8163e-04 - acc: 0.9990 - f1_score_macro: 0.9990 - val_loss: 0.0090 - val_acc: 0.9676 - val_f1_score_macro: 0.9661\n",
            "Epoch 7/50\n",
            "1006/1006 [==============================] - 0s 208us/step - loss: 5.2052e-05 - acc: 1.0000 - f1_score_macro: 1.0000 - val_loss: 0.0087 - val_acc: 0.9699 - val_f1_score_macro: 0.9686\n",
            "Epoch 8/50\n",
            "1006/1006 [==============================] - 0s 210us/step - loss: 2.1426e-05 - acc: 1.0000 - f1_score_macro: 1.0000 - val_loss: 0.0092 - val_acc: 0.9653 - val_f1_score_macro: 0.9627\n",
            "Epoch 9/50\n",
            "1006/1006 [==============================] - 0s 209us/step - loss: 1.1172e-05 - acc: 1.0000 - f1_score_macro: 1.0000 - val_loss: 0.0098 - val_acc: 0.9630 - val_f1_score_macro: 0.9604\n",
            "Epoch 10/50\n",
            "1006/1006 [==============================] - 0s 197us/step - loss: 7.4858e-05 - acc: 1.0000 - f1_score_macro: 1.0000 - val_loss: 0.0085 - val_acc: 0.9653 - val_f1_score_macro: 0.9641\n",
            "Epoch 11/50\n",
            "1006/1006 [==============================] - 0s 227us/step - loss: 3.6690e-06 - acc: 1.0000 - f1_score_macro: 1.0000 - val_loss: 0.0085 - val_acc: 0.9676 - val_f1_score_macro: 0.9663\n",
            "Epoch 12/50\n",
            "1006/1006 [==============================] - 0s 190us/step - loss: 1.5163e-06 - acc: 1.0000 - f1_score_macro: 1.0000 - val_loss: 0.0088 - val_acc: 0.9653 - val_f1_score_macro: 0.9663\n",
            "Epoch 13/50\n",
            "1006/1006 [==============================] - 0s 200us/step - loss: 8.4503e-07 - acc: 1.0000 - f1_score_macro: 1.0000 - val_loss: 0.0086 - val_acc: 0.9699 - val_f1_score_macro: 0.9687\n",
            "Epoch 14/50\n",
            "1006/1006 [==============================] - 0s 201us/step - loss: 3.4894e-07 - acc: 1.0000 - f1_score_macro: 1.0000 - val_loss: 0.0096 - val_acc: 0.9583 - val_f1_score_macro: 0.9571\n",
            "[CV] ....... conv1d__filters=64, conv1d__kernel_size=27, total=   6.0s\n",
            "[CV] conv1d__filters=64, conv1d__kernel_size=27 ......................\n",
            "Train on 1007 samples, validate on 432 samples\n",
            "Epoch 1/50\n",
            "1007/1007 [==============================] - 2s 2ms/step - loss: 0.0523 - acc: 0.7696 - f1_score_macro: 0.7117 - val_loss: 0.0307 - val_acc: 0.9005 - val_f1_score_macro: 0.8563\n",
            "Epoch 2/50\n",
            "1007/1007 [==============================] - 0s 243us/step - loss: 0.0142 - acc: 0.9474 - f1_score_macro: 0.9483 - val_loss: 0.0160 - val_acc: 0.9583 - val_f1_score_macro: 0.9441\n",
            "Epoch 3/50\n",
            "1007/1007 [==============================] - 0s 210us/step - loss: 0.0043 - acc: 0.9891 - f1_score_macro: 0.9889 - val_loss: 0.0152 - val_acc: 0.9468 - val_f1_score_macro: 0.9368\n",
            "Epoch 4/50\n",
            "1007/1007 [==============================] - 0s 198us/step - loss: 0.0019 - acc: 0.9940 - f1_score_macro: 0.9950 - val_loss: 0.0113 - val_acc: 0.9583 - val_f1_score_macro: 0.9551\n",
            "Epoch 5/50\n",
            "1007/1007 [==============================] - 0s 200us/step - loss: 8.6962e-04 - acc: 0.9970 - f1_score_macro: 0.9970 - val_loss: 0.0100 - val_acc: 0.9583 - val_f1_score_macro: 0.9557\n",
            "Epoch 6/50\n",
            "1007/1007 [==============================] - 0s 214us/step - loss: 2.8235e-04 - acc: 1.0000 - f1_score_macro: 1.0000 - val_loss: 0.0090 - val_acc: 0.9606 - val_f1_score_macro: 0.9591\n",
            "Epoch 7/50\n",
            "1007/1007 [==============================] - 0s 224us/step - loss: 2.2629e-04 - acc: 1.0000 - f1_score_macro: 1.0000 - val_loss: 0.0084 - val_acc: 0.9699 - val_f1_score_macro: 0.9699\n",
            "Epoch 8/50\n",
            "1007/1007 [==============================] - 0s 206us/step - loss: 1.6899e-04 - acc: 0.9990 - f1_score_macro: 0.9990 - val_loss: 0.0096 - val_acc: 0.9606 - val_f1_score_macro: 0.9570\n",
            "Epoch 9/50\n",
            "1007/1007 [==============================] - 0s 220us/step - loss: 8.4329e-05 - acc: 1.0000 - f1_score_macro: 1.0000 - val_loss: 0.0099 - val_acc: 0.9537 - val_f1_score_macro: 0.9558\n",
            "Epoch 10/50\n",
            "1007/1007 [==============================] - 0s 222us/step - loss: 2.0525e-05 - acc: 1.0000 - f1_score_macro: 1.0000 - val_loss: 0.0087 - val_acc: 0.9630 - val_f1_score_macro: 0.9639\n",
            "[CV] ....... conv1d__filters=64, conv1d__kernel_size=27, total=   5.3s\n",
            "[CV] conv1d__filters=64, conv1d__kernel_size=55 ......................\n",
            "Train on 1004 samples, validate on 431 samples\n",
            "Epoch 1/50\n",
            "1004/1004 [==============================] - 2s 2ms/step - loss: 0.0697 - acc: 0.6683 - f1_score_macro: 0.6657 - val_loss: 0.0375 - val_acc: 0.8445 - val_f1_score_macro: 0.8247\n",
            "Epoch 2/50\n",
            "1004/1004 [==============================] - 0s 231us/step - loss: 0.0128 - acc: 0.9492 - f1_score_macro: 0.9489 - val_loss: 0.0158 - val_acc: 0.9443 - val_f1_score_macro: 0.9313\n",
            "Epoch 3/50\n",
            "1004/1004 [==============================] - 0s 216us/step - loss: 0.0031 - acc: 0.9930 - f1_score_macro: 0.9919 - val_loss: 0.0132 - val_acc: 0.9490 - val_f1_score_macro: 0.9387\n",
            "Epoch 4/50\n",
            "1004/1004 [==============================] - 0s 232us/step - loss: 0.0022 - acc: 0.9920 - f1_score_macro: 0.9914 - val_loss: 0.0205 - val_acc: 0.9049 - val_f1_score_macro: 0.9070\n",
            "Epoch 5/50\n",
            "1004/1004 [==============================] - 0s 234us/step - loss: 0.0022 - acc: 0.9920 - f1_score_macro: 0.9920 - val_loss: 0.0087 - val_acc: 0.9629 - val_f1_score_macro: 0.9628\n",
            "Epoch 6/50\n",
            "1004/1004 [==============================] - 0s 217us/step - loss: 3.9246e-04 - acc: 0.9990 - f1_score_macro: 0.9990 - val_loss: 0.0077 - val_acc: 0.9722 - val_f1_score_macro: 0.9704\n",
            "Epoch 7/50\n",
            "1004/1004 [==============================] - 0s 218us/step - loss: 3.4233e-04 - acc: 0.9990 - f1_score_macro: 0.9990 - val_loss: 0.0085 - val_acc: 0.9606 - val_f1_score_macro: 0.9582\n",
            "Epoch 8/50\n",
            "1004/1004 [==============================] - 0s 218us/step - loss: 0.0018 - acc: 0.9910 - f1_score_macro: 0.9910 - val_loss: 0.0084 - val_acc: 0.9629 - val_f1_score_macro: 0.9628\n",
            "Epoch 9/50\n",
            "1004/1004 [==============================] - 0s 218us/step - loss: 3.0810e-04 - acc: 0.9990 - f1_score_macro: 0.9990 - val_loss: 0.0077 - val_acc: 0.9629 - val_f1_score_macro: 0.9616\n",
            "[CV] ....... conv1d__filters=64, conv1d__kernel_size=55, total=   5.2s\n",
            "[CV] conv1d__filters=64, conv1d__kernel_size=55 ......................\n",
            "Train on 1006 samples, validate on 432 samples\n",
            "Epoch 1/50\n",
            "1006/1006 [==============================] - 2s 2ms/step - loss: 0.0512 - acc: 0.7594 - f1_score_macro: 0.7449 - val_loss: 0.0364 - val_acc: 0.8657 - val_f1_score_macro: 0.8168\n",
            "Epoch 2/50\n",
            "1006/1006 [==============================] - 0s 229us/step - loss: 0.0193 - acc: 0.9115 - f1_score_macro: 0.9335 - val_loss: 0.0236 - val_acc: 0.9005 - val_f1_score_macro: 0.9135\n",
            "Epoch 3/50\n",
            "1006/1006 [==============================] - 0s 218us/step - loss: 0.0146 - acc: 0.9264 - f1_score_macro: 0.9532 - val_loss: 0.0223 - val_acc: 0.9028 - val_f1_score_macro: 0.9144\n",
            "Epoch 4/50\n",
            "1006/1006 [==============================] - 0s 223us/step - loss: 0.0142 - acc: 0.9274 - f1_score_macro: 0.9531 - val_loss: 0.0211 - val_acc: 0.9051 - val_f1_score_macro: 0.9251\n",
            "Epoch 5/50\n",
            "1006/1006 [==============================] - 0s 229us/step - loss: 0.0138 - acc: 0.9274 - f1_score_macro: 0.9534 - val_loss: 0.0222 - val_acc: 0.8958 - val_f1_score_macro: 0.9076\n",
            "Epoch 6/50\n",
            "1006/1006 [==============================] - 0s 213us/step - loss: 0.0141 - acc: 0.9274 - f1_score_macro: 0.9522 - val_loss: 0.0223 - val_acc: 0.9005 - val_f1_score_macro: 0.9080\n",
            "Epoch 7/50\n",
            "1006/1006 [==============================] - 0s 213us/step - loss: 0.0145 - acc: 0.9274 - f1_score_macro: 0.9452 - val_loss: 0.0226 - val_acc: 0.8958 - val_f1_score_macro: 0.9061\n",
            "[CV] ....... conv1d__filters=64, conv1d__kernel_size=55, total=   4.8s\n",
            "[CV] conv1d__filters=64, conv1d__kernel_size=55 ......................\n",
            "Train on 1007 samples, validate on 432 samples\n",
            "Epoch 1/50\n",
            "1007/1007 [==============================] - 2s 2ms/step - loss: 0.0457 - acc: 0.7835 - f1_score_macro: 0.7796 - val_loss: 0.0254 - val_acc: 0.9306 - val_f1_score_macro: 0.8939\n",
            "Epoch 2/50\n",
            "1007/1007 [==============================] - 0s 226us/step - loss: 0.0067 - acc: 0.9831 - f1_score_macro: 0.9803 - val_loss: 0.0141 - val_acc: 0.9630 - val_f1_score_macro: 0.9513\n",
            "Epoch 3/50\n",
            "1007/1007 [==============================] - 0s 205us/step - loss: 0.0029 - acc: 0.9930 - f1_score_macro: 0.9940 - val_loss: 0.0129 - val_acc: 0.9444 - val_f1_score_macro: 0.9482\n",
            "Epoch 4/50\n",
            "1007/1007 [==============================] - 0s 218us/step - loss: 0.0021 - acc: 0.9921 - f1_score_macro: 0.9920 - val_loss: 0.0115 - val_acc: 0.9514 - val_f1_score_macro: 0.9490\n",
            "Epoch 5/50\n",
            "1007/1007 [==============================] - 0s 211us/step - loss: 8.1300e-04 - acc: 0.9970 - f1_score_macro: 0.9970 - val_loss: 0.0106 - val_acc: 0.9514 - val_f1_score_macro: 0.9540\n",
            "Epoch 6/50\n",
            "1007/1007 [==============================] - 0s 224us/step - loss: 5.8111e-04 - acc: 0.9970 - f1_score_macro: 0.9975 - val_loss: 0.0090 - val_acc: 0.9606 - val_f1_score_macro: 0.9623\n",
            "Epoch 7/50\n",
            "1007/1007 [==============================] - 0s 215us/step - loss: 4.2034e-04 - acc: 0.9980 - f1_score_macro: 0.9980 - val_loss: 0.0073 - val_acc: 0.9676 - val_f1_score_macro: 0.9682\n",
            "Epoch 8/50\n",
            "1007/1007 [==============================] - 0s 220us/step - loss: 2.8017e-04 - acc: 0.9990 - f1_score_macro: 0.9990 - val_loss: 0.0072 - val_acc: 0.9676 - val_f1_score_macro: 0.9664\n",
            "Epoch 9/50\n",
            "1007/1007 [==============================] - 0s 222us/step - loss: 0.0011 - acc: 0.9940 - f1_score_macro: 0.9948 - val_loss: 0.0098 - val_acc: 0.9537 - val_f1_score_macro: 0.9507\n",
            "Epoch 10/50\n",
            "1007/1007 [==============================] - 0s 217us/step - loss: 2.9112e-04 - acc: 0.9990 - f1_score_macro: 0.9990 - val_loss: 0.0082 - val_acc: 0.9606 - val_f1_score_macro: 0.9602\n",
            "Epoch 11/50\n",
            "1007/1007 [==============================] - 0s 230us/step - loss: 2.8735e-04 - acc: 0.9990 - f1_score_macro: 0.9990 - val_loss: 0.0072 - val_acc: 0.9653 - val_f1_score_macro: 0.9671\n",
            "Epoch 12/50\n",
            "1007/1007 [==============================] - 0s 226us/step - loss: 2.8563e-04 - acc: 0.9990 - f1_score_macro: 0.9990 - val_loss: 0.0066 - val_acc: 0.9676 - val_f1_score_macro: 0.9696\n",
            "Epoch 13/50\n",
            "1007/1007 [==============================] - 0s 222us/step - loss: 8.9217e-04 - acc: 0.9960 - f1_score_macro: 0.9960 - val_loss: 0.0060 - val_acc: 0.9745 - val_f1_score_macro: 0.9720\n",
            "Epoch 14/50\n",
            "1007/1007 [==============================] - 0s 236us/step - loss: 2.8549e-04 - acc: 0.9990 - f1_score_macro: 0.9990 - val_loss: 0.0055 - val_acc: 0.9769 - val_f1_score_macro: 0.9768\n",
            "Epoch 15/50\n",
            "1007/1007 [==============================] - 0s 228us/step - loss: 2.8432e-04 - acc: 0.9990 - f1_score_macro: 0.9990 - val_loss: 0.0055 - val_acc: 0.9745 - val_f1_score_macro: 0.9768\n",
            "Epoch 16/50\n",
            "1007/1007 [==============================] - 0s 230us/step - loss: 4.6768e-04 - acc: 0.9980 - f1_score_macro: 0.9980 - val_loss: 0.0064 - val_acc: 0.9699 - val_f1_score_macro: 0.9722\n",
            "Epoch 17/50\n",
            "1007/1007 [==============================] - 0s 208us/step - loss: 2.8766e-04 - acc: 0.9990 - f1_score_macro: 0.9990 - val_loss: 0.0065 - val_acc: 0.9722 - val_f1_score_macro: 0.9745\n",
            "[CV] ....... conv1d__filters=64, conv1d__kernel_size=55, total=   7.1s\n",
            "[CV] conv1d__filters=128, conv1d__kernel_size=13 .....................\n",
            "Train on 1004 samples, validate on 431 samples\n",
            "Epoch 1/50\n",
            "1004/1004 [==============================] - 2s 2ms/step - loss: 0.0487 - acc: 0.7749 - f1_score_macro: 0.7177 - val_loss: 0.0321 - val_acc: 0.8654 - val_f1_score_macro: 0.8433\n",
            "Epoch 2/50\n",
            "1004/1004 [==============================] - 0s 213us/step - loss: 0.0123 - acc: 0.9602 - f1_score_macro: 0.9517 - val_loss: 0.0238 - val_acc: 0.8840 - val_f1_score_macro: 0.8870\n",
            "Epoch 3/50\n",
            "1004/1004 [==============================] - 0s 211us/step - loss: 0.0062 - acc: 0.9751 - f1_score_macro: 0.9753 - val_loss: 0.0175 - val_acc: 0.9165 - val_f1_score_macro: 0.9073\n",
            "Epoch 4/50\n",
            "1004/1004 [==============================] - 0s 205us/step - loss: 0.0028 - acc: 0.9900 - f1_score_macro: 0.9905 - val_loss: 0.0136 - val_acc: 0.9420 - val_f1_score_macro: 0.9320\n",
            "Epoch 5/50\n",
            "1004/1004 [==============================] - 0s 215us/step - loss: 0.0016 - acc: 0.9970 - f1_score_macro: 0.9955 - val_loss: 0.0132 - val_acc: 0.9374 - val_f1_score_macro: 0.9368\n",
            "Epoch 6/50\n",
            "1004/1004 [==============================] - 0s 215us/step - loss: 9.6843e-04 - acc: 0.9980 - f1_score_macro: 0.9980 - val_loss: 0.0112 - val_acc: 0.9490 - val_f1_score_macro: 0.9473\n",
            "Epoch 7/50\n",
            "1004/1004 [==============================] - 0s 203us/step - loss: 4.3429e-04 - acc: 0.9990 - f1_score_macro: 0.9990 - val_loss: 0.0098 - val_acc: 0.9536 - val_f1_score_macro: 0.9536\n",
            "Epoch 8/50\n",
            "1004/1004 [==============================] - 0s 214us/step - loss: 4.3840e-04 - acc: 0.9990 - f1_score_macro: 0.9990 - val_loss: 0.0105 - val_acc: 0.9466 - val_f1_score_macro: 0.9476\n",
            "Epoch 9/50\n",
            "1004/1004 [==============================] - 0s 214us/step - loss: 5.3871e-04 - acc: 0.9970 - f1_score_macro: 0.9970 - val_loss: 0.0104 - val_acc: 0.9536 - val_f1_score_macro: 0.9523\n",
            "Epoch 10/50\n",
            "1004/1004 [==============================] - 0s 208us/step - loss: 3.0245e-04 - acc: 0.9990 - f1_score_macro: 0.9990 - val_loss: 0.0110 - val_acc: 0.9536 - val_f1_score_macro: 0.9536\n",
            "[CV] ...... conv1d__filters=128, conv1d__kernel_size=13, total=   5.5s\n",
            "[CV] conv1d__filters=128, conv1d__kernel_size=13 .....................\n",
            "Train on 1006 samples, validate on 432 samples\n",
            "Epoch 1/50\n",
            "1006/1006 [==============================] - 2s 2ms/step - loss: 0.0450 - acc: 0.7942 - f1_score_macro: 0.7684 - val_loss: 0.0287 - val_acc: 0.8704 - val_f1_score_macro: 0.8565\n",
            "Epoch 2/50\n",
            "1006/1006 [==============================] - 0s 219us/step - loss: 0.0116 - acc: 0.9602 - f1_score_macro: 0.9501 - val_loss: 0.0169 - val_acc: 0.9352 - val_f1_score_macro: 0.9293\n",
            "Epoch 3/50\n",
            "1006/1006 [==============================] - 0s 213us/step - loss: 0.0034 - acc: 0.9920 - f1_score_macro: 0.9909 - val_loss: 0.0139 - val_acc: 0.9444 - val_f1_score_macro: 0.9389\n",
            "Epoch 4/50\n",
            "1006/1006 [==============================] - 0s 226us/step - loss: 0.0014 - acc: 0.9980 - f1_score_macro: 0.9980 - val_loss: 0.0124 - val_acc: 0.9444 - val_f1_score_macro: 0.9450\n",
            "Epoch 5/50\n",
            "1006/1006 [==============================] - 0s 206us/step - loss: 5.3932e-04 - acc: 1.0000 - f1_score_macro: 0.9995 - val_loss: 0.0142 - val_acc: 0.9398 - val_f1_score_macro: 0.9360\n",
            "Epoch 6/50\n",
            "1006/1006 [==============================] - 0s 217us/step - loss: 2.6489e-04 - acc: 1.0000 - f1_score_macro: 1.0000 - val_loss: 0.0123 - val_acc: 0.9444 - val_f1_score_macro: 0.9444\n",
            "Epoch 7/50\n",
            "1006/1006 [==============================] - 0s 209us/step - loss: 2.4634e-04 - acc: 1.0000 - f1_score_macro: 1.0000 - val_loss: 0.0115 - val_acc: 0.9491 - val_f1_score_macro: 0.9491\n",
            "Epoch 8/50\n",
            "1006/1006 [==============================] - 0s 212us/step - loss: 3.6551e-05 - acc: 1.0000 - f1_score_macro: 1.0000 - val_loss: 0.0128 - val_acc: 0.9468 - val_f1_score_macro: 0.9466\n",
            "Epoch 9/50\n",
            "1006/1006 [==============================] - 0s 225us/step - loss: 2.9541e-05 - acc: 1.0000 - f1_score_macro: 1.0000 - val_loss: 0.0115 - val_acc: 0.9468 - val_f1_score_macro: 0.9490\n",
            "Epoch 10/50\n",
            "1006/1006 [==============================] - 0s 208us/step - loss: 3.1676e-05 - acc: 1.0000 - f1_score_macro: 1.0000 - val_loss: 0.0125 - val_acc: 0.9468 - val_f1_score_macro: 0.9456\n",
            "Epoch 11/50\n",
            "1006/1006 [==============================] - 0s 207us/step - loss: 4.9530e-06 - acc: 1.0000 - f1_score_macro: 1.0000 - val_loss: 0.0120 - val_acc: 0.9491 - val_f1_score_macro: 0.9478\n",
            "Epoch 12/50\n",
            "1006/1006 [==============================] - 0s 213us/step - loss: 3.9736e-05 - acc: 1.0000 - f1_score_macro: 1.0000 - val_loss: 0.0117 - val_acc: 0.9468 - val_f1_score_macro: 0.9456\n",
            "[CV] ...... conv1d__filters=128, conv1d__kernel_size=13, total=   6.0s\n",
            "[CV] conv1d__filters=128, conv1d__kernel_size=13 .....................\n",
            "Train on 1007 samples, validate on 432 samples\n",
            "Epoch 1/50\n",
            "1007/1007 [==============================] - 2s 2ms/step - loss: 0.0489 - acc: 0.7776 - f1_score_macro: 0.7120 - val_loss: 0.0276 - val_acc: 0.8935 - val_f1_score_macro: 0.8908\n",
            "Epoch 2/50\n",
            "1007/1007 [==============================] - 0s 205us/step - loss: 0.0142 - acc: 0.9454 - f1_score_macro: 0.9346 - val_loss: 0.0141 - val_acc: 0.9514 - val_f1_score_macro: 0.9521\n",
            "Epoch 3/50\n",
            "1007/1007 [==============================] - 0s 213us/step - loss: 0.0060 - acc: 0.9811 - f1_score_macro: 0.9804 - val_loss: 0.0122 - val_acc: 0.9537 - val_f1_score_macro: 0.9530\n",
            "Epoch 4/50\n",
            "1007/1007 [==============================] - 0s 213us/step - loss: 0.0028 - acc: 0.9950 - f1_score_macro: 0.9934 - val_loss: 0.0122 - val_acc: 0.9583 - val_f1_score_macro: 0.9541\n",
            "Epoch 5/50\n",
            "1007/1007 [==============================] - 0s 221us/step - loss: 0.0013 - acc: 0.9960 - f1_score_macro: 0.9955 - val_loss: 0.0095 - val_acc: 0.9630 - val_f1_score_macro: 0.9625\n",
            "Epoch 6/50\n",
            "1007/1007 [==============================] - 0s 215us/step - loss: 6.0876e-04 - acc: 0.9990 - f1_score_macro: 0.9990 - val_loss: 0.0111 - val_acc: 0.9560 - val_f1_score_macro: 0.9522\n",
            "Epoch 7/50\n",
            "1007/1007 [==============================] - 0s 203us/step - loss: 2.6901e-04 - acc: 1.0000 - f1_score_macro: 1.0000 - val_loss: 0.0142 - val_acc: 0.9352 - val_f1_score_macro: 0.9347\n",
            "Epoch 8/50\n",
            "1007/1007 [==============================] - 0s 222us/step - loss: 1.2458e-04 - acc: 1.0000 - f1_score_macro: 1.0000 - val_loss: 0.0101 - val_acc: 0.9537 - val_f1_score_macro: 0.9578\n",
            "[CV] ...... conv1d__filters=128, conv1d__kernel_size=13, total=   5.3s\n",
            "[CV] conv1d__filters=128, conv1d__kernel_size=27 .....................\n",
            "Train on 1004 samples, validate on 431 samples\n",
            "Epoch 1/50\n",
            "1004/1004 [==============================] - 2s 2ms/step - loss: 0.0419 - acc: 0.8108 - f1_score_macro: 0.7811 - val_loss: 0.0272 - val_acc: 0.9165 - val_f1_score_macro: 0.8751\n",
            "Epoch 2/50\n",
            "1004/1004 [==============================] - 0s 237us/step - loss: 0.0079 - acc: 0.9691 - f1_score_macro: 0.9701 - val_loss: 0.0159 - val_acc: 0.9513 - val_f1_score_macro: 0.9335\n",
            "Epoch 3/50\n",
            "1004/1004 [==============================] - 0s 240us/step - loss: 0.0027 - acc: 0.9930 - f1_score_macro: 0.9915 - val_loss: 0.0131 - val_acc: 0.9490 - val_f1_score_macro: 0.9456\n",
            "Epoch 4/50\n",
            "1004/1004 [==============================] - 0s 229us/step - loss: 0.0011 - acc: 0.9980 - f1_score_macro: 0.9975 - val_loss: 0.0116 - val_acc: 0.9606 - val_f1_score_macro: 0.9524\n",
            "Epoch 5/50\n",
            "1004/1004 [==============================] - 0s 222us/step - loss: 0.0016 - acc: 0.9940 - f1_score_macro: 0.9930 - val_loss: 0.0091 - val_acc: 0.9698 - val_f1_score_macro: 0.9662\n",
            "Epoch 6/50\n",
            "1004/1004 [==============================] - 0s 229us/step - loss: 3.8025e-04 - acc: 0.9990 - f1_score_macro: 0.9990 - val_loss: 0.0101 - val_acc: 0.9582 - val_f1_score_macro: 0.9568\n",
            "Epoch 7/50\n",
            "1004/1004 [==============================] - 0s 242us/step - loss: 0.0014 - acc: 0.9940 - f1_score_macro: 0.9940 - val_loss: 0.0094 - val_acc: 0.9698 - val_f1_score_macro: 0.9661\n",
            "Epoch 8/50\n",
            "1004/1004 [==============================] - 0s 236us/step - loss: 5.5891e-04 - acc: 0.9980 - f1_score_macro: 0.9980 - val_loss: 0.0101 - val_acc: 0.9629 - val_f1_score_macro: 0.9604\n",
            "[CV] ...... conv1d__filters=128, conv1d__kernel_size=27, total=   5.5s\n",
            "[CV] conv1d__filters=128, conv1d__kernel_size=27 .....................\n",
            "Train on 1006 samples, validate on 432 samples\n",
            "Epoch 1/50\n",
            "1006/1006 [==============================] - 2s 2ms/step - loss: 0.0396 - acc: 0.8300 - f1_score_macro: 0.8010 - val_loss: 0.0186 - val_acc: 0.9306 - val_f1_score_macro: 0.9188\n",
            "Epoch 2/50\n",
            "1006/1006 [==============================] - 0s 232us/step - loss: 0.0052 - acc: 0.9851 - f1_score_macro: 0.9829 - val_loss: 0.0128 - val_acc: 0.9514 - val_f1_score_macro: 0.9474\n",
            "Epoch 3/50\n",
            "1006/1006 [==============================] - 0s 220us/step - loss: 0.0013 - acc: 0.9980 - f1_score_macro: 0.9975 - val_loss: 0.0100 - val_acc: 0.9560 - val_f1_score_macro: 0.9547\n",
            "Epoch 4/50\n",
            "1006/1006 [==============================] - 0s 227us/step - loss: 5.2152e-04 - acc: 0.9980 - f1_score_macro: 0.9980 - val_loss: 0.0102 - val_acc: 0.9583 - val_f1_score_macro: 0.9595\n",
            "Epoch 5/50\n",
            "1006/1006 [==============================] - 0s 231us/step - loss: 9.3933e-05 - acc: 1.0000 - f1_score_macro: 1.0000 - val_loss: 0.0114 - val_acc: 0.9537 - val_f1_score_macro: 0.9512\n",
            "Epoch 6/50\n",
            "1006/1006 [==============================] - 0s 247us/step - loss: 2.3741e-04 - acc: 0.9990 - f1_score_macro: 0.9990 - val_loss: 0.0096 - val_acc: 0.9583 - val_f1_score_macro: 0.9606\n",
            "Epoch 7/50\n",
            "1006/1006 [==============================] - 0s 232us/step - loss: 2.1165e-04 - acc: 0.9990 - f1_score_macro: 0.9990 - val_loss: 0.0089 - val_acc: 0.9630 - val_f1_score_macro: 0.9630\n",
            "Epoch 8/50\n",
            "1006/1006 [==============================] - 0s 225us/step - loss: 6.2583e-06 - acc: 1.0000 - f1_score_macro: 1.0000 - val_loss: 0.0086 - val_acc: 0.9676 - val_f1_score_macro: 0.9687\n",
            "Epoch 9/50\n",
            "1006/1006 [==============================] - 0s 235us/step - loss: 3.1076e-06 - acc: 1.0000 - f1_score_macro: 1.0000 - val_loss: 0.0086 - val_acc: 0.9699 - val_f1_score_macro: 0.9687\n",
            "Epoch 10/50\n",
            "1006/1006 [==============================] - 0s 254us/step - loss: 8.7644e-07 - acc: 1.0000 - f1_score_macro: 1.0000 - val_loss: 0.0092 - val_acc: 0.9653 - val_f1_score_macro: 0.9653\n",
            "Epoch 11/50\n",
            "1006/1006 [==============================] - 0s 244us/step - loss: 3.3204e-07 - acc: 1.0000 - f1_score_macro: 1.0000 - val_loss: 0.0089 - val_acc: 0.9653 - val_f1_score_macro: 0.9653\n",
            "Epoch 12/50\n",
            "1006/1006 [==============================] - 0s 233us/step - loss: 1.3342e-07 - acc: 1.0000 - f1_score_macro: 1.0000 - val_loss: 0.0086 - val_acc: 0.9676 - val_f1_score_macro: 0.9676\n",
            "[CV] ...... conv1d__filters=128, conv1d__kernel_size=27, total=   6.6s\n",
            "[CV] conv1d__filters=128, conv1d__kernel_size=27 .....................\n",
            "Train on 1007 samples, validate on 432 samples\n",
            "Epoch 1/50\n",
            "1007/1007 [==============================] - 3s 3ms/step - loss: 0.0407 - acc: 0.8064 - f1_score_macro: 0.7947 - val_loss: 0.0202 - val_acc: 0.9375 - val_f1_score_macro: 0.9358\n",
            "Epoch 2/50\n",
            "1007/1007 [==============================] - 0s 242us/step - loss: 0.0071 - acc: 0.9752 - f1_score_macro: 0.9739 - val_loss: 0.0119 - val_acc: 0.9606 - val_f1_score_macro: 0.9541\n",
            "Epoch 3/50\n",
            "1007/1007 [==============================] - 0s 220us/step - loss: 0.0028 - acc: 0.9940 - f1_score_macro: 0.9935 - val_loss: 0.0085 - val_acc: 0.9676 - val_f1_score_macro: 0.9674\n",
            "Epoch 4/50\n",
            "1007/1007 [==============================] - 0s 230us/step - loss: 0.0015 - acc: 0.9950 - f1_score_macro: 0.9955 - val_loss: 0.0106 - val_acc: 0.9537 - val_f1_score_macro: 0.9529\n",
            "Epoch 5/50\n",
            "1007/1007 [==============================] - 0s 230us/step - loss: 0.0011 - acc: 0.9960 - f1_score_macro: 0.9960 - val_loss: 0.0079 - val_acc: 0.9630 - val_f1_score_macro: 0.9637\n",
            "Epoch 6/50\n",
            "1007/1007 [==============================] - 0s 246us/step - loss: 3.2701e-04 - acc: 0.9990 - f1_score_macro: 0.9985 - val_loss: 0.0083 - val_acc: 0.9630 - val_f1_score_macro: 0.9605\n",
            "Epoch 7/50\n",
            "1007/1007 [==============================] - 0s 231us/step - loss: 4.2087e-05 - acc: 1.0000 - f1_score_macro: 1.0000 - val_loss: 0.0088 - val_acc: 0.9653 - val_f1_score_macro: 0.9650\n",
            "Epoch 8/50\n",
            "1007/1007 [==============================] - 0s 217us/step - loss: 3.8795e-04 - acc: 0.9980 - f1_score_macro: 0.9980 - val_loss: 0.0069 - val_acc: 0.9745 - val_f1_score_macro: 0.9745\n",
            "Epoch 9/50\n",
            "1007/1007 [==============================] - 0s 223us/step - loss: 7.7103e-06 - acc: 1.0000 - f1_score_macro: 1.0000 - val_loss: 0.0069 - val_acc: 0.9745 - val_f1_score_macro: 0.9734\n",
            "Epoch 10/50\n",
            "1007/1007 [==============================] - 0s 246us/step - loss: 3.7275e-06 - acc: 1.0000 - f1_score_macro: 1.0000 - val_loss: 0.0069 - val_acc: 0.9745 - val_f1_score_macro: 0.9745\n",
            "Epoch 11/50\n",
            "1007/1007 [==============================] - 0s 228us/step - loss: 1.6315e-04 - acc: 1.0000 - f1_score_macro: 1.0000 - val_loss: 0.0092 - val_acc: 0.9630 - val_f1_score_macro: 0.9630\n",
            "Epoch 12/50\n",
            "1007/1007 [==============================] - 0s 217us/step - loss: 7.8866e-06 - acc: 1.0000 - f1_score_macro: 1.0000 - val_loss: 0.0067 - val_acc: 0.9722 - val_f1_score_macro: 0.9745\n",
            "Epoch 13/50\n",
            "1007/1007 [==============================] - 0s 221us/step - loss: 1.2197e-06 - acc: 1.0000 - f1_score_macro: 1.0000 - val_loss: 0.0069 - val_acc: 0.9745 - val_f1_score_macro: 0.9745\n",
            "Epoch 14/50\n",
            "1007/1007 [==============================] - 0s 226us/step - loss: 5.0674e-07 - acc: 1.0000 - f1_score_macro: 1.0000 - val_loss: 0.0064 - val_acc: 0.9745 - val_f1_score_macro: 0.9745\n",
            "Epoch 15/50\n",
            "1007/1007 [==============================] - 0s 237us/step - loss: 6.4138e-06 - acc: 1.0000 - f1_score_macro: 1.0000 - val_loss: 0.0056 - val_acc: 0.9792 - val_f1_score_macro: 0.9792\n",
            "Epoch 16/50\n",
            "1007/1007 [==============================] - 0s 223us/step - loss: 7.9826e-07 - acc: 1.0000 - f1_score_macro: 1.0000 - val_loss: 0.0068 - val_acc: 0.9745 - val_f1_score_macro: 0.9757\n",
            "Epoch 17/50\n",
            "1007/1007 [==============================] - 0s 222us/step - loss: 1.9153e-07 - acc: 1.0000 - f1_score_macro: 1.0000 - val_loss: 0.0070 - val_acc: 0.9745 - val_f1_score_macro: 0.9734\n",
            "Epoch 18/50\n",
            "1007/1007 [==============================] - 0s 233us/step - loss: 7.6155e-08 - acc: 1.0000 - f1_score_macro: 1.0000 - val_loss: 0.0070 - val_acc: 0.9699 - val_f1_score_macro: 0.9721\n",
            "[CV] ...... conv1d__filters=128, conv1d__kernel_size=27, total=   8.4s\n",
            "[CV] conv1d__filters=128, conv1d__kernel_size=55 .....................\n",
            "Train on 1004 samples, validate on 431 samples\n",
            "Epoch 1/50\n",
            "1004/1004 [==============================] - 3s 3ms/step - loss: 0.0417 - acc: 0.8018 - f1_score_macro: 0.7918 - val_loss: 0.0220 - val_acc: 0.9188 - val_f1_score_macro: 0.9021\n",
            "Epoch 2/50\n",
            "1004/1004 [==============================] - 0s 268us/step - loss: 0.0073 - acc: 0.9691 - f1_score_macro: 0.9728 - val_loss: 0.0137 - val_acc: 0.9513 - val_f1_score_macro: 0.9376\n",
            "Epoch 3/50\n",
            "1004/1004 [==============================] - 0s 255us/step - loss: 0.0041 - acc: 0.9801 - f1_score_macro: 0.9815 - val_loss: 0.0133 - val_acc: 0.9466 - val_f1_score_macro: 0.9404\n",
            "Epoch 4/50\n",
            "1004/1004 [==============================] - 0s 272us/step - loss: 0.0018 - acc: 0.9940 - f1_score_macro: 0.9930 - val_loss: 0.0116 - val_acc: 0.9443 - val_f1_score_macro: 0.9468\n",
            "Epoch 5/50\n",
            "1004/1004 [==============================] - 0s 273us/step - loss: 0.0034 - acc: 0.9851 - f1_score_macro: 0.9855 - val_loss: 0.0077 - val_acc: 0.9675 - val_f1_score_macro: 0.9674\n",
            "Epoch 6/50\n",
            "1004/1004 [==============================] - 0s 256us/step - loss: 0.0015 - acc: 0.9940 - f1_score_macro: 0.9940 - val_loss: 0.0098 - val_acc: 0.9698 - val_f1_score_macro: 0.9697\n",
            "Epoch 7/50\n",
            "1004/1004 [==============================] - 0s 240us/step - loss: 8.7651e-04 - acc: 0.9960 - f1_score_macro: 0.9960 - val_loss: 0.0102 - val_acc: 0.9629 - val_f1_score_macro: 0.9633\n",
            "Epoch 8/50\n",
            "1004/1004 [==============================] - 0s 261us/step - loss: 5.3122e-04 - acc: 0.9980 - f1_score_macro: 0.9985 - val_loss: 0.0092 - val_acc: 0.9629 - val_f1_score_macro: 0.9647\n",
            "[CV] ...... conv1d__filters=128, conv1d__kernel_size=55, total=   6.0s\n",
            "[CV] conv1d__filters=128, conv1d__kernel_size=55 .....................\n",
            "Train on 1006 samples, validate on 432 samples\n",
            "Epoch 1/50\n",
            "1006/1006 [==============================] - 3s 3ms/step - loss: 0.0305 - acc: 0.8569 - f1_score_macro: 0.8461 - val_loss: 0.0189 - val_acc: 0.9491 - val_f1_score_macro: 0.9279\n",
            "Epoch 2/50\n",
            "1006/1006 [==============================] - 0s 258us/step - loss: 0.0024 - acc: 0.9960 - f1_score_macro: 0.9955 - val_loss: 0.0164 - val_acc: 0.9375 - val_f1_score_macro: 0.9395\n",
            "Epoch 3/50\n",
            "1006/1006 [==============================] - 0s 248us/step - loss: 6.1138e-04 - acc: 0.9990 - f1_score_macro: 0.9990 - val_loss: 0.0087 - val_acc: 0.9699 - val_f1_score_macro: 0.9705\n",
            "Epoch 4/50\n",
            "1006/1006 [==============================] - 0s 252us/step - loss: 5.1330e-04 - acc: 0.9990 - f1_score_macro: 0.9990 - val_loss: 0.0133 - val_acc: 0.9491 - val_f1_score_macro: 0.9451\n",
            "Epoch 5/50\n",
            "1006/1006 [==============================] - 0s 272us/step - loss: 1.6117e-04 - acc: 1.0000 - f1_score_macro: 1.0000 - val_loss: 0.0068 - val_acc: 0.9722 - val_f1_score_macro: 0.9706\n",
            "Epoch 6/50\n",
            "1006/1006 [==============================] - 0s 267us/step - loss: 1.3422e-05 - acc: 1.0000 - f1_score_macro: 1.0000 - val_loss: 0.0066 - val_acc: 0.9745 - val_f1_score_macro: 0.9742\n",
            "Epoch 7/50\n",
            "1006/1006 [==============================] - 0s 250us/step - loss: 9.8909e-06 - acc: 1.0000 - f1_score_macro: 1.0000 - val_loss: 0.0087 - val_acc: 0.9606 - val_f1_score_macro: 0.9566\n",
            "Epoch 8/50\n",
            "1006/1006 [==============================] - 0s 253us/step - loss: 7.4633e-04 - acc: 0.9970 - f1_score_macro: 0.9970 - val_loss: 0.0066 - val_acc: 0.9722 - val_f1_score_macro: 0.9733\n",
            "Epoch 9/50\n",
            "1006/1006 [==============================] - 0s 258us/step - loss: 2.5561e-06 - acc: 1.0000 - f1_score_macro: 1.0000 - val_loss: 0.0063 - val_acc: 0.9745 - val_f1_score_macro: 0.9756\n",
            "Epoch 10/50\n",
            "1006/1006 [==============================] - 0s 277us/step - loss: 1.2666e-06 - acc: 1.0000 - f1_score_macro: 1.0000 - val_loss: 0.0061 - val_acc: 0.9745 - val_f1_score_macro: 0.9733\n",
            "Epoch 11/50\n",
            "1006/1006 [==============================] - 0s 251us/step - loss: 7.5499e-07 - acc: 1.0000 - f1_score_macro: 1.0000 - val_loss: 0.0058 - val_acc: 0.9722 - val_f1_score_macro: 0.9720\n",
            "Epoch 12/50\n",
            "1006/1006 [==============================] - 0s 269us/step - loss: 2.0775e-07 - acc: 1.0000 - f1_score_macro: 1.0000 - val_loss: 0.0060 - val_acc: 0.9722 - val_f1_score_macro: 0.9733\n",
            "Epoch 13/50\n",
            "1006/1006 [==============================] - 0s 243us/step - loss: 7.1371e-08 - acc: 1.0000 - f1_score_macro: 1.0000 - val_loss: 0.0056 - val_acc: 0.9745 - val_f1_score_macro: 0.9733\n",
            "Epoch 14/50\n",
            "1006/1006 [==============================] - 0s 264us/step - loss: 3.3944e-08 - acc: 1.0000 - f1_score_macro: 1.0000 - val_loss: 0.0058 - val_acc: 0.9745 - val_f1_score_macro: 0.9733\n",
            "Epoch 15/50\n",
            "1006/1006 [==============================] - 0s 261us/step - loss: 2.0206e-08 - acc: 1.0000 - f1_score_macro: 1.0000 - val_loss: 0.0057 - val_acc: 0.9745 - val_f1_score_macro: 0.9733\n",
            "Epoch 16/50\n",
            "1006/1006 [==============================] - 0s 250us/step - loss: 1.4125e-08 - acc: 1.0000 - f1_score_macro: 1.0000 - val_loss: 0.0057 - val_acc: 0.9745 - val_f1_score_macro: 0.9733\n",
            "[CV] ...... conv1d__filters=128, conv1d__kernel_size=55, total=   8.1s\n",
            "[CV] conv1d__filters=128, conv1d__kernel_size=55 .....................\n",
            "Train on 1007 samples, validate on 432 samples\n",
            "Epoch 1/50\n",
            "1007/1007 [==============================] - 3s 3ms/step - loss: 0.0382 - acc: 0.8213 - f1_score_macro: 0.8019 - val_loss: 0.0242 - val_acc: 0.9259 - val_f1_score_macro: 0.8848\n",
            "Epoch 2/50\n",
            "1007/1007 [==============================] - 0s 272us/step - loss: 0.0077 - acc: 0.9652 - f1_score_macro: 0.9676 - val_loss: 0.0152 - val_acc: 0.9560 - val_f1_score_macro: 0.9352\n",
            "Epoch 3/50\n",
            "1007/1007 [==============================] - 0s 256us/step - loss: 0.0035 - acc: 0.9891 - f1_score_macro: 0.9865 - val_loss: 0.0082 - val_acc: 0.9722 - val_f1_score_macro: 0.9681\n",
            "Epoch 4/50\n",
            "1007/1007 [==============================] - 0s 271us/step - loss: 0.0016 - acc: 0.9930 - f1_score_macro: 0.9935 - val_loss: 0.0072 - val_acc: 0.9722 - val_f1_score_macro: 0.9726\n",
            "Epoch 5/50\n",
            "1007/1007 [==============================] - 0s 254us/step - loss: 0.0014 - acc: 0.9940 - f1_score_macro: 0.9950 - val_loss: 0.0062 - val_acc: 0.9815 - val_f1_score_macro: 0.9801\n",
            "Epoch 6/50\n",
            "1007/1007 [==============================] - 0s 259us/step - loss: 3.1148e-04 - acc: 0.9990 - f1_score_macro: 0.9990 - val_loss: 0.0055 - val_acc: 0.9815 - val_f1_score_macro: 0.9788\n",
            "Epoch 7/50\n",
            "1007/1007 [==============================] - 0s 274us/step - loss: 0.0021 - acc: 0.9921 - f1_score_macro: 0.9921 - val_loss: 0.0062 - val_acc: 0.9769 - val_f1_score_macro: 0.9739\n",
            "Epoch 8/50\n",
            "1007/1007 [==============================] - 0s 250us/step - loss: 5.3107e-04 - acc: 0.9980 - f1_score_macro: 0.9980 - val_loss: 0.0057 - val_acc: 0.9815 - val_f1_score_macro: 0.9741\n",
            "Epoch 9/50\n",
            "1007/1007 [==============================] - 0s 248us/step - loss: 2.8624e-04 - acc: 0.9990 - f1_score_macro: 0.9990 - val_loss: 0.0054 - val_acc: 0.9815 - val_f1_score_macro: 0.9802\n",
            "Epoch 10/50\n",
            "1007/1007 [==============================] - 0s 268us/step - loss: 2.8501e-04 - acc: 0.9990 - f1_score_macro: 0.9990 - val_loss: 0.0048 - val_acc: 0.9792 - val_f1_score_macro: 0.9780\n",
            "Epoch 11/50\n",
            "1007/1007 [==============================] - 0s 268us/step - loss: 9.6150e-04 - acc: 0.9970 - f1_score_macro: 0.9970 - val_loss: 0.0065 - val_acc: 0.9722 - val_f1_score_macro: 0.9720\n",
            "Epoch 12/50\n",
            "1007/1007 [==============================] - 0s 248us/step - loss: 8.1397e-04 - acc: 0.9960 - f1_score_macro: 0.9955 - val_loss: 0.0051 - val_acc: 0.9792 - val_f1_score_macro: 0.9802\n",
            "Epoch 13/50\n",
            "1007/1007 [==============================] - 0s 254us/step - loss: 2.8579e-04 - acc: 0.9990 - f1_score_macro: 0.9990 - val_loss: 0.0043 - val_acc: 0.9861 - val_f1_score_macro: 0.9849\n",
            "Epoch 14/50\n",
            "1007/1007 [==============================] - 0s 271us/step - loss: 2.8432e-04 - acc: 0.9990 - f1_score_macro: 0.9990 - val_loss: 0.0040 - val_acc: 0.9861 - val_f1_score_macro: 0.9849\n",
            "Epoch 15/50\n",
            "1007/1007 [==============================] - 0s 270us/step - loss: 2.8404e-04 - acc: 0.9990 - f1_score_macro: 0.9990 - val_loss: 0.0038 - val_acc: 0.9861 - val_f1_score_macro: 0.9860\n",
            "Epoch 16/50\n",
            "1007/1007 [==============================] - 0s 255us/step - loss: 3.6592e-04 - acc: 0.9990 - f1_score_macro: 0.9990 - val_loss: 0.0052 - val_acc: 0.9745 - val_f1_score_macro: 0.9744\n",
            "Epoch 17/50\n",
            "1007/1007 [==============================] - 0s 254us/step - loss: 2.8422e-04 - acc: 0.9990 - f1_score_macro: 0.9990 - val_loss: 0.0056 - val_acc: 0.9745 - val_f1_score_macro: 0.9745\n",
            "Epoch 18/50\n",
            "1007/1007 [==============================] - 0s 280us/step - loss: 2.8397e-04 - acc: 0.9990 - f1_score_macro: 0.9990 - val_loss: 0.0054 - val_acc: 0.9769 - val_f1_score_macro: 0.9791\n",
            "[CV] ...... conv1d__filters=128, conv1d__kernel_size=55, total=   8.8s\n"
          ],
          "name": "stdout"
        },
        {
          "output_type": "stream",
          "text": [
            "[Parallel(n_jobs=1)]: Done  18 out of  18 | elapsed:  1.8min finished\n"
          ],
          "name": "stderr"
        },
        {
          "output_type": "stream",
          "text": [
            "Train on 1509 samples, validate on 647 samples\n",
            "Epoch 1/50\n",
            "1509/1509 [==============================] - 3s 2ms/step - loss: 0.0301 - acc: 0.8608 - f1_score_macro: 0.8595 - val_loss: 0.0177 - val_acc: 0.9212 - val_f1_score_macro: 0.9184\n",
            "Epoch 2/50\n",
            "1509/1509 [==============================] - 0s 260us/step - loss: 0.0065 - acc: 0.9695 - f1_score_macro: 0.9723 - val_loss: 0.0079 - val_acc: 0.9629 - val_f1_score_macro: 0.9640\n",
            "Epoch 3/50\n",
            "1509/1509 [==============================] - 0s 278us/step - loss: 0.0034 - acc: 0.9867 - f1_score_macro: 0.9854 - val_loss: 0.0046 - val_acc: 0.9815 - val_f1_score_macro: 0.9815\n",
            "Epoch 4/50\n",
            "1509/1509 [==============================] - 0s 269us/step - loss: 0.0017 - acc: 0.9934 - f1_score_macro: 0.9937 - val_loss: 0.0041 - val_acc: 0.9830 - val_f1_score_macro: 0.9822\n",
            "Epoch 5/50\n",
            "1509/1509 [==============================] - 0s 272us/step - loss: 0.0030 - acc: 0.9867 - f1_score_macro: 0.9877 - val_loss: 0.0049 - val_acc: 0.9784 - val_f1_score_macro: 0.9776\n",
            "Epoch 6/50\n",
            "1509/1509 [==============================] - 0s 257us/step - loss: 0.0012 - acc: 0.9940 - f1_score_macro: 0.9944 - val_loss: 0.0065 - val_acc: 0.9722 - val_f1_score_macro: 0.9729\n",
            "Epoch 7/50\n",
            "1509/1509 [==============================] - 0s 276us/step - loss: 0.0012 - acc: 0.9940 - f1_score_macro: 0.9943 - val_loss: 0.0067 - val_acc: 0.9706 - val_f1_score_macro: 0.9706\n",
            "{'conv1d__filters': 128, 'conv1d__kernel_size': 55}\n"
          ],
          "name": "stdout"
        }
      ]
    },
    {
      "cell_type": "markdown",
      "metadata": {
        "id": "NsaRpRToFvZQ",
        "colab_type": "text"
      },
      "source": [
        "# Ploting Confusion Matrices "
      ]
    },
    {
      "cell_type": "code",
      "metadata": {
        "id": "yC6lyl8V_HQP",
        "colab_type": "code",
        "outputId": "16b4f8ee-e26e-4d14-b85e-e4c01a1a5ff7",
        "colab": {
          "base_uri": "https://localhost:8080/",
          "height": 1000
        }
      },
      "source": [
        "\n",
        "results = {}\n",
        "models = {}\n",
        "genconfmat = True\n",
        "results['st'] = {}\n",
        "\n",
        "for clfname, model in clfs:\n",
        "    print(clfname, end=\":\\t\")\n",
        "    if not clfname in results['st']:\n",
        "        results['st'][clfname] = []\n",
        "    y_pred = model.predict(X_test)\n",
        "    results['st'][clfname].append([accuracy_score(y_test,y_pred),f1_score(y_test,y_pred,average='macro')])\n",
        "    print(results['st'][clfname][-1])\n",
        "    if genconfmat:\n",
        "        cnf_matrix = confusion_matrix(y_test, y_pred)\n",
        "        print(cnf_matrix)\n",
        "        plt.figure(figsize=(tam,tam))\n",
        "        plot_confusion_matrix(cnf_matrix, classes=class_names, title=clfname, normalize=False)\n",
        "        plt.show()\n",
        "        plot_confusion_matrix(cnf_matrix, classes=class_names, title=clfname, normalize=True)\n",
        "        #plt.savefig('cnfmatrix_st'+clfname+str(fold)+'round'+str(j)+'.png')\n",
        "        plt.show()"
      ],
      "execution_count": 0,
      "outputs": [
        {
          "output_type": "stream",
          "text": [
            "K-NN with Feateure Extraction:\t[0.8775510204081632, 0.7881841844064476]\n",
            "[[278   0   0   0   0   0   0]\n",
            " [  1  34   4   2   2   0   0]\n",
            " [  0   7  32   0   4   0   0]\n",
            " [  4   8   2  26   3   0   0]\n",
            " [  1   7   4   8  23   1   0]\n",
            " [  1   1   0   0   0  42   0]\n",
            " [  0   0   1   0   1   4  38]]\n",
            "Confusion matrix, without normalization\n"
          ],
          "name": "stdout"
        },
        {
          "output_type": "display_data",
          "data": {
            "image/png": "[encoded data removed]",
            "text/plain": [
              "<Figure size 430.5x430.5 with 1 Axes>"
            ]
          },
          "metadata": {
            "tags": []
          }
        },
        {
          "output_type": "stream",
          "text": [
            "Normalized confusion matrix\n"
          ],
          "name": "stdout"
        },
        {
          "output_type": "display_data",
          "data": {
            "image/png": "[encoded data removed]",
            "text/plain": [
              "<Figure size 432x288 with 1 Axes>"
            ]
          },
          "metadata": {
            "tags": []
          }
        },
        {
          "output_type": "stream",
          "text": [
            "Random Forest without Feature Extraction:\t[0.8478664192949907, 0.7355823188714723]\n",
            "[[277   0   0   1   0   0   0]\n",
            " [  1  39   0   2   1   0   0]\n",
            " [  0  14  24   2   2   0   1]\n",
            " [  4   1   2  33   3   0   0]\n",
            " [  1   6   3  12  22   0   0]\n",
            " [  2   2   0   1   1  34   4]\n",
            " [  0   0   2   0   4  10  28]]\n",
            "Confusion matrix, without normalization\n"
          ],
          "name": "stdout"
        },
        {
          "output_type": "display_data",
          "data": {
            "image/png": "[encoded data removed]",
            "text/plain": [
              "<Figure size 430.5x430.5 with 1 Axes>"
            ]
          },
          "metadata": {
            "tags": []
          }
        },
        {
          "output_type": "stream",
          "text": [
            "Normalized confusion matrix\n"
          ],
          "name": "stdout"
        },
        {
          "output_type": "display_data",
          "data": {
            "image/png": "[encoded data removed]",
            "text/plain": [
              "<Figure size 432x288 with 1 Axes>"
            ]
          },
          "metadata": {
            "tags": []
          }
        },
        {
          "output_type": "stream",
          "text": [
            "Random Forest with Feature Extraction:\t[0.9387755102040817, 0.893091984721278]\n",
            "[[278   0   0   0   0   0   0]\n",
            " [  0  36   3   3   1   0   0]\n",
            " [  0   0  39   0   4   0   0]\n",
            " [  0   0   0  41   1   1   0]\n",
            " [  0   0   0   2  41   1   0]\n",
            " [  1   3   0   2   2  35   1]\n",
            " [  0   0   0   0   2   6  36]]\n",
            "Confusion matrix, without normalization\n"
          ],
          "name": "stdout"
        },
        {
          "output_type": "display_data",
          "data": {
            "image/png": "[encoded data removed]",
            "text/plain": [
              "<Figure size 430.5x430.5 with 1 Axes>"
            ]
          },
          "metadata": {
            "tags": []
          }
        },
        {
          "output_type": "stream",
          "text": [
            "Normalized confusion matrix\n"
          ],
          "name": "stdout"
        },
        {
          "output_type": "display_data",
          "data": {
            "image/png": "[encoded data removed]",
            "text/plain": [
              "<Figure size 432x288 with 1 Axes>"
            ]
          },
          "metadata": {
            "tags": []
          }
        },
        {
          "output_type": "stream",
          "text": [
            "Artificial Neural Network - Conv1d:\t[0.9554730983302412, 0.9231313202728417]\n",
            "[[278   0   0   0   0   0   0]\n",
            " [  1  41   0   0   1   0   0]\n",
            " [  0   7  36   0   0   0   0]\n",
            " [  1   0   0  41   1   0   0]\n",
            " [  0   0   1   8  35   0   0]\n",
            " [  0   0   0   0   0  40   4]\n",
            " [  0   0   0   0   0   0  44]]\n",
            "Confusion matrix, without normalization\n"
          ],
          "name": "stdout"
        },
        {
          "output_type": "display_data",
          "data": {
            "image/png": "[encoded data removed]",
            "text/plain": [
              "<Figure size 430.5x430.5 with 1 Axes>"
            ]
          },
          "metadata": {
            "tags": []
          }
        },
        {
          "output_type": "stream",
          "text": [
            "Normalized confusion matrix\n"
          ],
          "name": "stdout"
        },
        {
          "output_type": "display_data",
          "data": {
            "image/png": "[encoded data removed]",
            "text/plain": [
              "<Figure size 432x288 with 1 Axes>"
            ]
          },
          "metadata": {
            "tags": []
          }
        }
      ]
    },
    {
      "cell_type": "markdown",
      "metadata": {
        "id": "NSCFSwn5xC2D",
        "colab_type": "text"
      },
      "source": [
        "## Display Results"
      ]
    },
    {
      "cell_type": "code",
      "metadata": {
        "id": "RCpMjftKwIDp",
        "colab_type": "code",
        "outputId": "2d693518-da28-4c1d-e94b-bf2f8b906691",
        "colab": {
          "base_uri": "https://localhost:8080/",
          "height": 374
        }
      },
      "source": [
        "print(y_test.shape)\n",
        "for evaluation in results.keys():\n",
        "  print(\"\\n\"+30*\"#\"+\"\\n\"+evaluation+\"\\n\"+30*\"#\")\n",
        "  for clfname,model in clfs:\n",
        "    print(\"\\n\\t\"+clfname+\" Results\\nAccuracy\\tF1-Score\")\n",
        "    for i,r in enumerate(results[evaluation][clfname]):\n",
        "      print(\"{}\\t\".format(i+1),end=\"\")\n",
        "      print(r)"
      ],
      "execution_count": 0,
      "outputs": [
        {
          "output_type": "stream",
          "text": [
            "(539,)\n",
            "\n",
            "##############################\n",
            "st\n",
            "##############################\n",
            "\n",
            "\tK-NN with Feateure Extraction Results\n",
            "Accuracy\tF1-Score\n",
            "1\t[0.8775510204081632, 0.7881841844064476]\n",
            "\n",
            "\tRandom Forest without Feature Extraction Results\n",
            "Accuracy\tF1-Score\n",
            "1\t[0.8478664192949907, 0.7355823188714723]\n",
            "\n",
            "\tRandom Forest with Feature Extraction Results\n",
            "Accuracy\tF1-Score\n",
            "1\t[0.9387755102040817, 0.893091984721278]\n",
            "\n",
            "\tArtificial Neural Network - Conv1d Results\n",
            "Accuracy\tF1-Score\n",
            "1\t[0.9554730983302412, 0.9231313202728417]\n"
          ],
          "name": "stdout"
        }
      ]
    }
  ]
}